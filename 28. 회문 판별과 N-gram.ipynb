{
 "cells": [
  {
   "cell_type": "markdown",
   "id": "096ed39c",
   "metadata": {
    "ExecuteTime": {
     "end_time": "2023-02-02T00:31:13.014516Z",
     "start_time": "2023-02-02T00:31:13.002638Z"
    }
   },
   "source": [
    "## 회문 판별"
   ]
  },
  {
   "cell_type": "markdown",
   "id": "cda9552f",
   "metadata": {
    "ExecuteTime": {
     "end_time": "2023-02-02T00:31:57.659811Z",
     "start_time": "2023-02-02T00:31:57.641134Z"
    }
   },
   "source": [
    "- 회문: 순서를 거꾸로 읽어도 제대로 읽은 것 같은 단어와 문장"
   ]
  },
  {
   "cell_type": "code",
   "execution_count": 5,
   "id": "f2316f33",
   "metadata": {
    "ExecuteTime": {
     "end_time": "2023-02-02T00:37:44.158431Z",
     "start_time": "2023-02-02T00:37:42.516107Z"
    }
   },
   "outputs": [
    {
     "name": "stdout",
     "output_type": "stream",
     "text": [
      "단어 입력: break\n",
      "False\n"
     ]
    }
   ],
   "source": [
    "word = input('단어 입력: ')\n",
    "\n",
    "is_palindrome = True #회문 판별값을 저장할 변수, 초기값 설정\n",
    "\n",
    "for i in range(len(word) // 2): #문자열 길이의 절반만큼 반복\n",
    "    if word[i] != word[-1 -i]: #회문이 아니면\n",
    "        is_palindrome = False \n",
    "        break #멈추기\n",
    "print(is_palindrome)"
   ]
  },
  {
   "cell_type": "markdown",
   "id": "1dbbc36b",
   "metadata": {
    "ExecuteTime": {
     "end_time": "2023-02-02T00:38:40.290015Z",
     "start_time": "2023-02-02T00:38:40.277465Z"
    }
   },
   "source": [
    "## 시퀀스 뒤집기로 문자 검사"
   ]
  },
  {
   "cell_type": "code",
   "execution_count": 8,
   "id": "752918d5",
   "metadata": {
    "ExecuteTime": {
     "end_time": "2023-02-02T00:40:38.962297Z",
     "start_time": "2023-02-02T00:40:36.324703Z"
    }
   },
   "outputs": [
    {
     "name": "stdout",
     "output_type": "stream",
     "text": [
      "단어 입력: level\n",
      "True\n"
     ]
    }
   ],
   "source": [
    "word = input('단어 입력: ')\n",
    "\n",
    "print(word == word[::-1])"
   ]
  },
  {
   "cell_type": "markdown",
   "id": "ced91e5b",
   "metadata": {
    "ExecuteTime": {
     "end_time": "2023-02-02T00:41:16.381724Z",
     "start_time": "2023-02-02T00:41:16.362104Z"
    }
   },
   "source": [
    "## 리스트, reversed 사용"
   ]
  },
  {
   "cell_type": "code",
   "execution_count": 10,
   "id": "7bb2be3b",
   "metadata": {
    "ExecuteTime": {
     "end_time": "2023-02-02T00:41:43.646866Z",
     "start_time": "2023-02-02T00:41:43.612710Z"
    }
   },
   "outputs": [
    {
     "data": {
      "text/plain": [
       "True"
      ]
     },
     "execution_count": 10,
     "metadata": {},
     "output_type": "execute_result"
    }
   ],
   "source": [
    "word = 'level'\n",
    "list(word) == list(reversed(word))"
   ]
  },
  {
   "cell_type": "code",
   "execution_count": 12,
   "id": "09fcd82b",
   "metadata": {
    "ExecuteTime": {
     "end_time": "2023-02-02T00:42:05.560200Z",
     "start_time": "2023-02-02T00:42:05.540544Z"
    }
   },
   "outputs": [
    {
     "data": {
      "text/plain": [
       "(['l', 'e', 'v', 'e', 'l'], ['l', 'e', 'v', 'e', 'l'])"
      ]
     },
     "execution_count": 12,
     "metadata": {},
     "output_type": "execute_result"
    }
   ],
   "source": [
    "list(word), list(reversed(word))"
   ]
  },
  {
   "cell_type": "code",
   "execution_count": 13,
   "id": "ba722270",
   "metadata": {
    "ExecuteTime": {
     "end_time": "2023-02-02T00:44:13.399578Z",
     "start_time": "2023-02-02T00:44:13.374819Z"
    }
   },
   "outputs": [
    {
     "data": {
      "text/plain": [
       "True"
      ]
     },
     "execution_count": 13,
     "metadata": {},
     "output_type": "execute_result"
    }
   ],
   "source": [
    "word = 'level'\n",
    "word == ''.join(reversed(word))"
   ]
  },
  {
   "cell_type": "markdown",
   "id": "c84a029c",
   "metadata": {
    "ExecuteTime": {
     "end_time": "2023-02-02T00:45:23.365932Z",
     "start_time": "2023-02-02T00:45:23.359722Z"
    }
   },
   "source": [
    "## n-gram 만들기"
   ]
  },
  {
   "cell_type": "markdown",
   "id": "666cb307",
   "metadata": {
    "ExecuteTime": {
     "end_time": "2023-02-02T00:47:02.660327Z",
     "start_time": "2023-02-02T00:47:02.641399Z"
    }
   },
   "source": [
    "- n개의 연속된 요소를 추출"
   ]
  },
  {
   "cell_type": "code",
   "execution_count": 15,
   "id": "4c50d511",
   "metadata": {
    "ExecuteTime": {
     "end_time": "2023-02-02T00:46:28.955275Z",
     "start_time": "2023-02-02T00:46:28.938312Z"
    }
   },
   "outputs": [
    {
     "name": "stdout",
     "output_type": "stream",
     "text": [
      "he\n",
      "el\n",
      "ll\n",
      "lo\n"
     ]
    }
   ],
   "source": [
    "text = 'hello'\n",
    "\n",
    "for i in range(len(text) - 1):\n",
    "    print(text[i], text[i + 1], sep='')"
   ]
  },
  {
   "cell_type": "code",
   "execution_count": 17,
   "id": "84eb5628",
   "metadata": {
    "ExecuteTime": {
     "end_time": "2023-02-02T00:48:33.234399Z",
     "start_time": "2023-02-02T00:48:33.220436Z"
    }
   },
   "outputs": [
    {
     "name": "stdout",
     "output_type": "stream",
     "text": [
      "this is\n",
      "is python\n",
      "python script\n"
     ]
    }
   ],
   "source": [
    "text = 'this is python script'\n",
    "words = text.split() #공백을 기준으로 문자열 분리\n",
    "\n",
    "for i in range(len(words) - 1):\n",
    "    print(words[i], words[i + 1])"
   ]
  },
  {
   "cell_type": "markdown",
   "id": "1b1904e3",
   "metadata": {
    "ExecuteTime": {
     "end_time": "2023-02-02T00:50:23.950846Z",
     "start_time": "2023-02-02T00:50:23.933920Z"
    }
   },
   "source": [
    "## zip으로 2-gram 만들기"
   ]
  },
  {
   "cell_type": "code",
   "execution_count": 19,
   "id": "945d4a3f",
   "metadata": {
    "ExecuteTime": {
     "end_time": "2023-02-02T00:51:12.977308Z",
     "start_time": "2023-02-02T00:51:12.964795Z"
    }
   },
   "outputs": [
    {
     "name": "stdout",
     "output_type": "stream",
     "text": [
      "he\n",
      "el\n",
      "ll\n",
      "lo\n"
     ]
    }
   ],
   "source": [
    "text = 'hello'\n",
    "\n",
    "two_gram = zip(text, text[1:])\n",
    "for i in two_gram:\n",
    "    print(i[0], i[1], sep='')"
   ]
  },
  {
   "cell_type": "code",
   "execution_count": 21,
   "id": "f9080b3b",
   "metadata": {
    "ExecuteTime": {
     "end_time": "2023-02-02T00:53:57.996713Z",
     "start_time": "2023-02-02T00:53:57.977765Z"
    }
   },
   "outputs": [
    {
     "data": {
      "text/plain": [
       "[('h', 'e'), ('e', 'l'), ('l', 'l'), ('l', 'o')]"
      ]
     },
     "execution_count": 21,
     "metadata": {},
     "output_type": "execute_result"
    }
   ],
   "source": [
    "text = 'hello'\n",
    "list(zip(text, text[1:]))"
   ]
  },
  {
   "cell_type": "code",
   "execution_count": 22,
   "id": "56582147",
   "metadata": {
    "ExecuteTime": {
     "end_time": "2023-02-02T00:54:29.199898Z",
     "start_time": "2023-02-02T00:54:29.175428Z"
    }
   },
   "outputs": [
    {
     "data": {
      "text/plain": [
       "[('this', 'is'), ('is', 'python'), ('python', 'script')]"
      ]
     },
     "execution_count": 22,
     "metadata": {},
     "output_type": "execute_result"
    }
   ],
   "source": [
    "text = 'this is python script'\n",
    "words = text.split()\n",
    "list(zip(words, words[]))"
   ]
  },
  {
   "cell_type": "markdown",
   "id": "8cca2f77",
   "metadata": {
    "ExecuteTime": {
     "end_time": "2023-02-02T00:54:54.268076Z",
     "start_time": "2023-02-02T00:54:54.249761Z"
    }
   },
   "source": [
    "## zip과 리스트 표현식으로 n-gram 만들기"
   ]
  }
 ],
 "metadata": {
  "kernelspec": {
   "display_name": "Python 3 (ipykernel)",
   "language": "python",
   "name": "python3"
  },
  "language_info": {
   "codemirror_mode": {
    "name": "ipython",
    "version": 3
   },
   "file_extension": ".py",
   "mimetype": "text/x-python",
   "name": "python",
   "nbconvert_exporter": "python",
   "pygments_lexer": "ipython3",
   "version": "3.9.7"
  },
  "toc": {
   "base_numbering": 1,
   "nav_menu": {},
   "number_sections": true,
   "sideBar": true,
   "skip_h1_title": false,
   "title_cell": "Table of Contents",
   "title_sidebar": "Contents",
   "toc_cell": false,
   "toc_position": {},
   "toc_section_display": true,
   "toc_window_display": false
  }
 },
 "nbformat": 4,
 "nbformat_minor": 5
}
