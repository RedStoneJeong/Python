{
 "cells": [
  {
   "cell_type": "markdown",
   "id": "1a07ee51",
   "metadata": {
    "ExecuteTime": {
     "end_time": "2023-02-01T05:44:37.189759Z",
     "start_time": "2023-02-01T05:44:37.182415Z"
    }
   },
   "source": [
    "# 2차원 리스트 만들기\n"
   ]
  },
  {
   "cell_type": "code",
   "execution_count": 3,
   "id": "8e34861d",
   "metadata": {
    "ExecuteTime": {
     "end_time": "2023-02-01T05:45:11.770215Z",
     "start_time": "2023-02-01T05:45:11.751649Z"
    }
   },
   "outputs": [
    {
     "data": {
      "text/plain": [
       "[[10, 20], [30, 40], [50, 60]]"
      ]
     },
     "execution_count": 3,
     "metadata": {},
     "output_type": "execute_result"
    }
   ],
   "source": [
    "a = [[10, 20], \n",
    "     [30, 40], \n",
    "     [50,60]]\n",
    "a"
   ]
  },
  {
   "cell_type": "code",
   "execution_count": 5,
   "id": "fa59072e",
   "metadata": {
    "ExecuteTime": {
     "end_time": "2023-02-01T05:45:27.072748Z",
     "start_time": "2023-02-01T05:45:27.053553Z"
    }
   },
   "outputs": [
    {
     "data": {
      "text/plain": [
       "([10, 20], 10)"
      ]
     },
     "execution_count": 5,
     "metadata": {},
     "output_type": "execute_result"
    }
   ],
   "source": [
    "a[0], a[0][0]"
   ]
  },
  {
   "cell_type": "code",
   "execution_count": 6,
   "id": "fa836920",
   "metadata": {
    "ExecuteTime": {
     "end_time": "2023-02-01T05:46:26.148654Z",
     "start_time": "2023-02-01T05:46:26.131679Z"
    }
   },
   "outputs": [],
   "source": [
    "# 사각형 구조를 유지하게 출력하기\n",
    "from pprint import pprint"
   ]
  },
  {
   "cell_type": "code",
   "execution_count": 7,
   "id": "d73ff404",
   "metadata": {
    "ExecuteTime": {
     "end_time": "2023-02-01T05:46:42.658101Z",
     "start_time": "2023-02-01T05:46:42.639025Z"
    }
   },
   "outputs": [
    {
     "name": "stdout",
     "output_type": "stream",
     "text": [
      "[   [10, 20],\n",
      "    [30, 40],\n",
      "    [50, 60]]\n"
     ]
    }
   ],
   "source": [
    "pprint(a, indent=4, width=20)"
   ]
  },
  {
   "cell_type": "markdown",
   "id": "5f8d3132",
   "metadata": {
    "ExecuteTime": {
     "end_time": "2023-02-01T05:47:00.205587Z",
     "start_time": "2023-02-01T05:47:00.197416Z"
    }
   },
   "source": [
    "## 반복문으로 2차원 리스트 출력하기"
   ]
  },
  {
   "cell_type": "code",
   "execution_count": 9,
   "id": "9fe81932",
   "metadata": {
    "ExecuteTime": {
     "end_time": "2023-02-01T05:47:12.123682Z",
     "start_time": "2023-02-01T05:47:12.115706Z"
    }
   },
   "outputs": [
    {
     "name": "stdout",
     "output_type": "stream",
     "text": [
      "10 20\n",
      "30 40\n",
      "50 60\n"
     ]
    }
   ],
   "source": [
    "for x, y in a: #가로 한 줄씩 반복\n",
    "    print(x, y)"
   ]
  },
  {
   "cell_type": "code",
   "execution_count": 11,
   "id": "f5afe60d",
   "metadata": {
    "ExecuteTime": {
     "end_time": "2023-02-01T05:48:09.253739Z",
     "start_time": "2023-02-01T05:48:09.245312Z"
    }
   },
   "outputs": [
    {
     "name": "stdout",
     "output_type": "stream",
     "text": [
      "10 20 \n",
      "30 40 \n",
      "50 60 \n"
     ]
    }
   ],
   "source": [
    "for i in a:\n",
    "    for j in i:\n",
    "        print(j, end=' ')\n",
    "    print()"
   ]
  },
  {
   "cell_type": "markdown",
   "id": "9382094d",
   "metadata": {
    "ExecuteTime": {
     "end_time": "2023-02-01T05:48:26.597065Z",
     "start_time": "2023-02-01T05:48:26.581777Z"
    }
   },
   "source": [
    "## for, range 사용"
   ]
  },
  {
   "cell_type": "code",
   "execution_count": 14,
   "id": "19a8c65d",
   "metadata": {
    "ExecuteTime": {
     "end_time": "2023-02-01T05:49:45.610663Z",
     "start_time": "2023-02-01T05:49:45.596774Z"
    }
   },
   "outputs": [
    {
     "name": "stdout",
     "output_type": "stream",
     "text": [
      "10 20 \n",
      "30 40 \n",
      "50 60 \n"
     ]
    }
   ],
   "source": [
    "for i in range(len(a)): #세로\n",
    "    for j in range(len(a[i])): #가로\n",
    "        print(a[i][j], end=' ')\n",
    "    print()"
   ]
  },
  {
   "cell_type": "markdown",
   "id": "fb1997da",
   "metadata": {
    "ExecuteTime": {
     "end_time": "2023-02-01T05:49:59.465941Z",
     "start_time": "2023-02-01T05:49:59.451887Z"
    }
   },
   "source": [
    "## while"
   ]
  },
  {
   "cell_type": "code",
   "execution_count": 16,
   "id": "00efa137",
   "metadata": {
    "ExecuteTime": {
     "end_time": "2023-02-01T05:50:18.824947Z",
     "start_time": "2023-02-01T05:50:18.801232Z"
    }
   },
   "outputs": [
    {
     "name": "stdout",
     "output_type": "stream",
     "text": [
      "10 20\n",
      "30 40\n",
      "50 60\n"
     ]
    }
   ],
   "source": [
    "i = 0\n",
    "while i < len(a):\n",
    "    x, y = a[i]\n",
    "    print(x, y)\n",
    "    i += 1"
   ]
  },
  {
   "cell_type": "code",
   "execution_count": 17,
   "id": "bde97ed3",
   "metadata": {
    "ExecuteTime": {
     "end_time": "2023-02-01T05:51:05.558195Z",
     "start_time": "2023-02-01T05:51:05.547223Z"
    }
   },
   "outputs": [
    {
     "name": "stdout",
     "output_type": "stream",
     "text": [
      "10 20 \n",
      "30 40 \n",
      "50 60 \n"
     ]
    }
   ],
   "source": [
    "i = 0\n",
    "while i < len(a):\n",
    "    j = 0\n",
    "    while j < len(a[i]):\n",
    "        print(a[i][j], end= ' ')\n",
    "        j += 1\n",
    "    print()\n",
    "    i += 1"
   ]
  },
  {
   "cell_type": "markdown",
   "id": "886c60a5",
   "metadata": {
    "ExecuteTime": {
     "end_time": "2023-02-01T05:51:36.396223Z",
     "start_time": "2023-02-01T05:51:36.379609Z"
    }
   },
   "source": [
    "## for 반복문으로 1차원 리스트 만들기"
   ]
  },
  {
   "cell_type": "code",
   "execution_count": 19,
   "id": "ec8af655",
   "metadata": {
    "ExecuteTime": {
     "end_time": "2023-02-01T05:52:00.452310Z",
     "start_time": "2023-02-01T05:52:00.435570Z"
    }
   },
   "outputs": [
    {
     "name": "stdout",
     "output_type": "stream",
     "text": [
      "[0, 0, 0, 0, 0, 0, 0, 0, 0, 0]\n"
     ]
    }
   ],
   "source": [
    "a = []\n",
    "\n",
    "for i in range(10):\n",
    "    a.append(0)\n",
    "    \n",
    "print(a)"
   ]
  },
  {
   "cell_type": "markdown",
   "id": "4cc129bf",
   "metadata": {
    "ExecuteTime": {
     "end_time": "2023-02-01T05:52:15.904500Z",
     "start_time": "2023-02-01T05:52:15.890767Z"
    }
   },
   "source": [
    "## for 반복문으로 2차원 리스트 만들기"
   ]
  },
  {
   "cell_type": "code",
   "execution_count": 25,
   "id": "debc3fe6",
   "metadata": {
    "ExecuteTime": {
     "end_time": "2023-02-01T05:58:44.911311Z",
     "start_time": "2023-02-01T05:58:44.891946Z"
    }
   },
   "outputs": [
    {
     "name": "stdout",
     "output_type": "stream",
     "text": [
      "[[0, 0], [0, 0], [0, 0]]\n"
     ]
    }
   ],
   "source": [
    "a = []\n",
    "\n",
    "for i in range(3):\n",
    "    line = []\n",
    "    for j in range(2):\n",
    "        line.append(0)\n",
    "    a.append(line)\n",
    "    \n",
    "print(a)"
   ]
  },
  {
   "cell_type": "code",
   "execution_count": 26,
   "id": "ed80991b",
   "metadata": {
    "ExecuteTime": {
     "end_time": "2023-02-01T05:59:01.435542Z",
     "start_time": "2023-02-01T05:59:01.422859Z"
    }
   },
   "outputs": [
    {
     "data": {
      "text/plain": [
       "[[0, 0], [0, 0], [0, 0]]"
      ]
     },
     "execution_count": 26,
     "metadata": {},
     "output_type": "execute_result"
    }
   ],
   "source": [
    "a = [[0]*2 for i in range(3)]\n",
    "a"
   ]
  },
  {
   "cell_type": "markdown",
   "id": "b998d8fa",
   "metadata": {
    "ExecuteTime": {
     "end_time": "2023-02-01T05:57:47.357612Z",
     "start_time": "2023-02-01T05:57:47.340659Z"
    }
   },
   "source": [
    "## list 표현식으로 2차원 리스트"
   ]
  },
  {
   "cell_type": "code",
   "execution_count": 23,
   "id": "dcf08d7e",
   "metadata": {
    "ExecuteTime": {
     "end_time": "2023-02-01T05:58:08.771636Z",
     "start_time": "2023-02-01T05:58:08.760528Z"
    }
   },
   "outputs": [
    {
     "data": {
      "text/plain": [
       "[[0, 0], [0, 0], [0, 0]]"
      ]
     },
     "execution_count": 23,
     "metadata": {},
     "output_type": "execute_result"
    }
   ],
   "source": [
    "a = [[0 for j in range(2)] for i in range(3)]\n",
    "a"
   ]
  },
  {
   "cell_type": "markdown",
   "id": "694e8e95",
   "metadata": {
    "ExecuteTime": {
     "end_time": "2023-02-01T05:59:11.453931Z",
     "start_time": "2023-02-01T05:59:11.436027Z"
    }
   },
   "source": [
    "## 톱니형 list"
   ]
  },
  {
   "cell_type": "code",
   "execution_count": 28,
   "id": "964dfb98",
   "metadata": {
    "ExecuteTime": {
     "end_time": "2023-02-01T05:59:46.832722Z",
     "start_time": "2023-02-01T05:59:46.820714Z"
    }
   },
   "outputs": [
    {
     "name": "stdout",
     "output_type": "stream",
     "text": [
      "[[0, 0, 0], [0], [0, 0, 0], [0, 0], [0, 0, 0, 0, 0]]\n"
     ]
    }
   ],
   "source": [
    "a = [3, 1, 3, 2, 5]\n",
    "b = []\n",
    "\n",
    "for i in a:\n",
    "    line = []\n",
    "    for j in range(i):\n",
    "        line.append(0)\n",
    "    b.append(line)\n",
    "    \n",
    "print(b)"
   ]
  },
  {
   "cell_type": "code",
   "execution_count": 30,
   "id": "f113222a",
   "metadata": {
    "ExecuteTime": {
     "end_time": "2023-02-01T06:00:09.739818Z",
     "start_time": "2023-02-01T06:00:09.718626Z"
    }
   },
   "outputs": [
    {
     "data": {
      "text/plain": [
       "[[0, 0, 0], [0], [0, 0, 0], [0, 0], [0, 0, 0, 0, 0]]"
      ]
     },
     "execution_count": 30,
     "metadata": {},
     "output_type": "execute_result"
    }
   ],
   "source": [
    "a = [[0] * i for i in [3, 1, 3, 2, 5]]\n",
    "a"
   ]
  },
  {
   "cell_type": "markdown",
   "id": "0f10e48a",
   "metadata": {
    "ExecuteTime": {
     "end_time": "2023-02-01T06:00:20.215841Z",
     "start_time": "2023-02-01T06:00:20.210423Z"
    }
   },
   "source": [
    "## 참고"
   ]
  },
  {
   "cell_type": "code",
   "execution_count": 36,
   "id": "5a7590ef",
   "metadata": {
    "ExecuteTime": {
     "end_time": "2023-02-01T06:02:38.034864Z",
     "start_time": "2023-02-01T06:02:38.020855Z"
    }
   },
   "outputs": [
    {
     "name": "stdout",
     "output_type": "stream",
     "text": [
      "[['maria', 'a', 25], ['andrew', 'b', 8], ['john', 'c', 19]]\n",
      "[['andrew', 'b', 8], ['john', 'c', 19], ['maria', 'a', 25]]\n"
     ]
    }
   ],
   "source": [
    "students = [\n",
    "    ['john', 'c', 19],\n",
    "    ['maria', 'a', 25],\n",
    "    ['andrew', 'b', 8]\n",
    "]\n",
    "\n",
    "#2차원 리스트를 정렬할 때는 sorted 함수를 사용합니다.\n",
    "#sorted(반복가능한객체, key=정렬함수, reverse=True 또는 False)\n",
    "#다음은 학생 정보가 저장된 2차원 리스트를 정렬합니다.\n",
    "\n",
    "print(sorted(students, key=lambda student: student[1]))\n",
    "print(sorted(students, key=lambda student: student[2]))"
   ]
  },
  {
   "cell_type": "markdown",
   "id": "924913e9",
   "metadata": {
    "ExecuteTime": {
     "end_time": "2023-02-01T06:04:25.777531Z",
     "start_time": "2023-02-01T06:04:25.758318Z"
    }
   },
   "source": [
    "# 2차원 list의 할당과 복사"
   ]
  },
  {
   "cell_type": "code",
   "execution_count": 40,
   "id": "646598b6",
   "metadata": {
    "ExecuteTime": {
     "end_time": "2023-02-01T06:05:00.703283Z",
     "start_time": "2023-02-01T06:05:00.684381Z"
    }
   },
   "outputs": [
    {
     "data": {
      "text/plain": [
       "([[500, 20], [30, 40]], [[500, 20], [30, 40]])"
      ]
     },
     "execution_count": 40,
     "metadata": {},
     "output_type": "execute_result"
    }
   ],
   "source": [
    "a = [[10,20], [30,40]]\n",
    "b = a\n",
    "b[0][0] = 500\n",
    "a, b"
   ]
  },
  {
   "cell_type": "code",
   "execution_count": 43,
   "id": "6f06c393",
   "metadata": {
    "ExecuteTime": {
     "end_time": "2023-02-01T06:05:39.607072Z",
     "start_time": "2023-02-01T06:05:39.594786Z"
    }
   },
   "outputs": [
    {
     "data": {
      "text/plain": [
       "([[500, 20], [30, 40]], [[500, 20], [30, 40]])"
      ]
     },
     "execution_count": 43,
     "metadata": {},
     "output_type": "execute_result"
    }
   ],
   "source": [
    "a = [[10,20], [30,40]]\n",
    "b = a.copy()\n",
    "b[0][0] = 500\n",
    "a, b"
   ]
  },
  {
   "cell_type": "code",
   "execution_count": 44,
   "id": "0e16fa5c",
   "metadata": {
    "ExecuteTime": {
     "end_time": "2023-02-01T06:06:29.651690Z",
     "start_time": "2023-02-01T06:06:29.637737Z"
    }
   },
   "outputs": [
    {
     "data": {
      "text/plain": [
       "([[10, 20], [30, 40]], [[500, 20], [30, 40]])"
      ]
     },
     "execution_count": 44,
     "metadata": {},
     "output_type": "execute_result"
    }
   ],
   "source": [
    "a = [[10,20], [30,40]]\n",
    "import copy\n",
    "b = copy.deepcopy(a)\n",
    "b[0][0] = 500\n",
    "a, b\n",
    "#리스트 복사해도 다른 리스티에 영향을 미치지 않는 방법"
   ]
  },
  {
   "cell_type": "markdown",
   "id": "e1e8f0a3",
   "metadata": {
    "ExecuteTime": {
     "end_time": "2023-02-01T06:09:41.446337Z",
     "start_time": "2023-02-01T06:09:41.433068Z"
    }
   },
   "source": [
    "## 연습문제 - 3차원 list 만들기"
   ]
  },
  {
   "cell_type": "code",
   "execution_count": 46,
   "id": "d62ace49",
   "metadata": {
    "ExecuteTime": {
     "end_time": "2023-02-01T06:11:17.859520Z",
     "start_time": "2023-02-01T06:11:17.852534Z"
    }
   },
   "outputs": [],
   "source": [
    "a = [[[0 for col in range(3)] for row in range(4)] for depth in range(2)]"
   ]
  },
  {
   "cell_type": "code",
   "execution_count": 47,
   "id": "4b396114",
   "metadata": {
    "ExecuteTime": {
     "end_time": "2023-02-01T06:11:21.221498Z",
     "start_time": "2023-02-01T06:11:21.203069Z"
    }
   },
   "outputs": [
    {
     "data": {
      "text/plain": [
       "[[[0, 0, 0], [0, 0, 0], [0, 0, 0], [0, 0, 0]],\n",
       " [[0, 0, 0], [0, 0, 0], [0, 0, 0], [0, 0, 0]]]"
      ]
     },
     "execution_count": 47,
     "metadata": {},
     "output_type": "execute_result"
    }
   ],
   "source": [
    "a"
   ]
  },
  {
   "cell_type": "markdown",
   "id": "8c46d78b",
   "metadata": {
    "ExecuteTime": {
     "end_time": "2023-02-01T06:12:15.696932Z",
     "start_time": "2023-02-01T06:12:15.678126Z"
    }
   },
   "source": [
    "## 심사문제 - 지뢰찾기"
   ]
  },
  {
   "cell_type": "code",
   "execution_count": null,
   "id": "9006250c",
   "metadata": {},
   "outputs": [],
   "source": []
  }
 ],
 "metadata": {
  "kernelspec": {
   "display_name": "Python 3 (ipykernel)",
   "language": "python",
   "name": "python3"
  },
  "language_info": {
   "codemirror_mode": {
    "name": "ipython",
    "version": 3
   },
   "file_extension": ".py",
   "mimetype": "text/x-python",
   "name": "python",
   "nbconvert_exporter": "python",
   "pygments_lexer": "ipython3",
   "version": "3.9.7"
  },
  "toc": {
   "base_numbering": 1,
   "nav_menu": {},
   "number_sections": true,
   "sideBar": true,
   "skip_h1_title": false,
   "title_cell": "Table of Contents",
   "title_sidebar": "Contents",
   "toc_cell": false,
   "toc_position": {},
   "toc_section_display": true,
   "toc_window_display": false
  }
 },
 "nbformat": 4,
 "nbformat_minor": 5
}
