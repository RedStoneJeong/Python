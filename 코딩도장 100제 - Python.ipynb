{
 "cells": [
  {
   "cell_type": "code",
   "execution_count": 16,
   "id": "8b9494b8",
   "metadata": {
    "ExecuteTime": {
     "end_time": "2023-02-28T03:00:22.462723Z",
     "start_time": "2023-02-28T03:00:22.444374Z"
    }
   },
   "outputs": [
    {
     "name": "stdout",
     "output_type": "stream",
     "text": [
      "makit \"code\" lab \n",
      "she's gone\n"
     ]
    }
   ],
   "source": [
    "#문제1\n",
    "print('makit \"code\" lab \\nshe' + \"'\" + 's gone')"
   ]
  },
  {
   "cell_type": "code",
   "execution_count": 28,
   "id": "1fa71074",
   "metadata": {
    "ExecuteTime": {
     "end_time": "2023-02-28T03:04:19.548149Z",
     "start_time": "2023-02-28T03:04:19.536760Z"
    }
   },
   "outputs": [
    {
     "name": "stdout",
     "output_type": "stream",
     "text": [
      "a의 값은 10\n",
      "b의 값은 20\n",
      "a와 b의 합은 30\n"
     ]
    }
   ],
   "source": [
    "#문제2\n",
    "\"\"\"\n",
    "a의 값은 10\n",
    "b의 값은 20\n",
    "a와 b의 합은 30\n",
    "\"\"\"\n",
    "\n",
    "a, b = 10, 20\n",
    "\n",
    "print('a의 값은', a)\n",
    "print('b의 값은', b)\n",
    "print('a와 b의 합은', a+b)"
   ]
  },
  {
   "cell_type": "code",
   "execution_count": 30,
   "id": "9f6c1f85",
   "metadata": {
    "ExecuteTime": {
     "end_time": "2023-02-28T03:08:40.820360Z",
     "start_time": "2023-02-28T03:08:40.797480Z"
    }
   },
   "outputs": [
    {
     "name": "stdout",
     "output_type": "stream",
     "text": [
      "30을 8로 나눈 몫은 3\n",
      "30을 9로 나눈 나머지는 6\n",
      "30을 8로 나눈 결과는 3.75\n"
     ]
    }
   ],
   "source": [
    "#문제5\n",
    "a = 30 // 8\n",
    "b = 30 % 8\n",
    "print('30을 8로 나눈 몫은', a)\n",
    "print('30을 8로 나눈 나머지는', b)\n",
    "print('30을 8로 나눈 결과는', 30/8)"
   ]
  },
  {
   "cell_type": "code",
   "execution_count": 31,
   "id": "01304529",
   "metadata": {
    "ExecuteTime": {
     "end_time": "2023-02-28T03:09:47.751869Z",
     "start_time": "2023-02-28T03:09:47.738526Z"
    }
   },
   "outputs": [
    {
     "name": "stdout",
     "output_type": "stream",
     "text": [
      "46\n",
      "1234\n",
      "8\n"
     ]
    }
   ],
   "source": [
    "#문제6\n",
    "print(12 + 34)\n",
    "print('12' + '34')\n",
    "print(2 ** 3)"
   ]
  },
  {
   "cell_type": "code",
   "execution_count": 52,
   "id": "ef391946",
   "metadata": {
    "ExecuteTime": {
     "end_time": "2023-02-28T03:27:22.939633Z",
     "start_time": "2023-02-28T03:27:22.917584Z"
    }
   },
   "outputs": [
    {
     "name": "stdout",
     "output_type": "stream",
     "text": [
      "시은 우진 화이팅!! 시은 우진\n",
      "\n",
      "시은 우진\n"
     ]
    }
   ],
   "source": [
    "#문제7\n",
    "a = '시은 우진'\n",
    "print(a, '화이팅!!', end=' ' )\n",
    "print(a)\n",
    "print()\n",
    "print(a)"
   ]
  },
  {
   "cell_type": "code",
   "execution_count": 70,
   "id": "831823ab",
   "metadata": {
    "ExecuteTime": {
     "end_time": "2023-02-28T03:44:19.797861Z",
     "start_time": "2023-02-28T03:44:14.586669Z"
    }
   },
   "outputs": [
    {
     "name": "stdout",
     "output_type": "stream",
     "text": [
      "메이킷\n",
      "17\n",
      "이름이 무엇인가요? 메이킷\n",
      "몇 살인가요? 17\n",
      "메이킷 님은 내년에는 18 살이 됩니다.\n"
     ]
    }
   ],
   "source": [
    "#문제8\n",
    "name = input()\n",
    "age = int(input())\n",
    "print('이름이 무엇인가요?', name)\n",
    "print('몇 살인가요?', age)\n",
    "print(name, '님은 내년에는', age+1, '살이 됩니다.')"
   ]
  },
  {
   "cell_type": "code",
   "execution_count": 71,
   "id": "1f5ca045",
   "metadata": {
    "ExecuteTime": {
     "end_time": "2023-02-28T03:46:26.305035Z",
     "start_time": "2023-02-28T03:46:22.207263Z"
    }
   },
   "outputs": [
    {
     "name": "stdout",
     "output_type": "stream",
     "text": [
      "3\n",
      "2.5\n",
      "a와 b의 합은 5.5\n",
      "a와 b의 평균값은 2.75\n"
     ]
    }
   ],
   "source": [
    "#문제9\n",
    "a = int(input())\n",
    "b = float(input())\n",
    "\n",
    "print('a와 b의 합은', a+b)\n",
    "print('a와 b의 평균값은', (a+b)/2)"
   ]
  },
  {
   "cell_type": "code",
   "execution_count": 72,
   "id": "bee1d5db",
   "metadata": {
    "ExecuteTime": {
     "end_time": "2023-02-28T03:48:33.118849Z",
     "start_time": "2023-02-28T03:48:33.101837Z"
    }
   },
   "outputs": [
    {
     "name": "stdout",
     "output_type": "stream",
     "text": [
      "S\n",
      "W\n",
      "!\n"
     ]
    }
   ],
   "source": [
    "#문제10\n",
    "makit='Sieun Woojin!'\n",
    "result = makit[0]\n",
    "\n",
    "print(result)\n",
    "result = makit[6]\n",
    "\n",
    "print(result)\n",
    "result = makit[-1]\n",
    "print(result)"
   ]
  },
  {
   "cell_type": "code",
   "execution_count": 77,
   "id": "99d3c8b8",
   "metadata": {
    "ExecuteTime": {
     "end_time": "2023-02-28T03:53:17.363509Z",
     "start_time": "2023-02-28T03:53:17.347493Z"
    }
   },
   "outputs": [
    {
     "name": "stdout",
     "output_type": "stream",
     "text": [
      "eun Woo\n",
      "Sieun\n",
      "Woojin!\n"
     ]
    }
   ],
   "source": [
    "#문제11\n",
    "makit = 'Sieun Woojin!'\n",
    "result = makit[2:9]\n",
    "print(result)\n",
    "result = makit[0:5]\n",
    "print(result)\n",
    "result = makit[-7:]\n",
    "print(result)"
   ]
  },
  {
   "cell_type": "code",
   "execution_count": 78,
   "id": "c0877109",
   "metadata": {
    "ExecuteTime": {
     "end_time": "2023-02-28T03:55:00.093827Z",
     "start_time": "2023-02-28T03:55:00.086588Z"
    }
   },
   "outputs": [
    {
     "name": "stdout",
     "output_type": "stream",
     "text": [
      "동동동\n"
     ]
    }
   ],
   "source": [
    "#문제12\n",
    "makit = '동서남북동서남북동서남북'\n",
    "print(makit[::4])"
   ]
  }
 ],
 "metadata": {
  "kernelspec": {
   "display_name": "Python 3 (ipykernel)",
   "language": "python",
   "name": "python3"
  },
  "language_info": {
   "codemirror_mode": {
    "name": "ipython",
    "version": 3
   },
   "file_extension": ".py",
   "mimetype": "text/x-python",
   "name": "python",
   "nbconvert_exporter": "python",
   "pygments_lexer": "ipython3",
   "version": "3.9.7"
  },
  "toc": {
   "base_numbering": 1,
   "nav_menu": {},
   "number_sections": true,
   "sideBar": true,
   "skip_h1_title": false,
   "title_cell": "Table of Contents",
   "title_sidebar": "Contents",
   "toc_cell": false,
   "toc_position": {},
   "toc_section_display": true,
   "toc_window_display": false
  }
 },
 "nbformat": 4,
 "nbformat_minor": 5
}
