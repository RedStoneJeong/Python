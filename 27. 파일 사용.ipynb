{
 "cells": [
  {
   "cell_type": "markdown",
   "id": "5163cd08",
   "metadata": {
    "ExecuteTime": {
     "end_time": "2023-02-01T14:30:37.124040Z",
     "start_time": "2023-02-01T14:30:37.109110Z"
    }
   },
   "source": [
    "## 파일에 문자열 쓰기/읽기"
   ]
  },
  {
   "cell_type": "code",
   "execution_count": 3,
   "id": "07015d46",
   "metadata": {
    "ExecuteTime": {
     "end_time": "2023-02-01T14:31:26.054839Z",
     "start_time": "2023-02-01T14:31:26.046464Z"
    }
   },
   "outputs": [],
   "source": [
    "#파일 열기\n",
    "file = open('hello.txt', 'w') #open(파일이름, 모드(쓰는 것 w))\n",
    "#파일 쓰기\n",
    "file.write('hello world!')\n",
    "#파일 닫기\n",
    "file.close()"
   ]
  },
  {
   "cell_type": "code",
   "execution_count": 4,
   "id": "374479af",
   "metadata": {
    "ExecuteTime": {
     "end_time": "2023-02-01T14:33:16.251916Z",
     "start_time": "2023-02-01T14:33:16.217049Z"
    }
   },
   "outputs": [
    {
     "name": "stdout",
     "output_type": "stream",
     "text": [
      "hello world!\n"
     ]
    }
   ],
   "source": [
    "file = open('hello.txt', 'r')\n",
    "s = file.read()\n",
    "print(s)\n",
    "file.close()"
   ]
  },
  {
   "cell_type": "code",
   "execution_count": 5,
   "id": "274f0357",
   "metadata": {
    "ExecuteTime": {
     "end_time": "2023-02-01T14:33:56.328876Z",
     "start_time": "2023-02-01T14:33:56.305968Z"
    }
   },
   "outputs": [
    {
     "name": "stdout",
     "output_type": "stream",
     "text": [
      "hello world!\n"
     ]
    }
   ],
   "source": [
    "#자동으로 파일 객체 닫기\n",
    "with open('hello.txt', 'r')as file:\n",
    "    s = file.read()\n",
    "    print(s)"
   ]
  },
  {
   "cell_type": "code",
   "execution_count": 6,
   "id": "6ce83690",
   "metadata": {
    "ExecuteTime": {
     "end_time": "2023-02-01T14:35:18.774761Z",
     "start_time": "2023-02-01T14:35:18.756606Z"
    }
   },
   "outputs": [],
   "source": [
    "with open('hello.txt', 'w') as file: #파일을 쓰기 모드(w)로 열기\n",
    "    for i in range(3):\n",
    "        file.write('hello world! {0}\\n'.format(i))"
   ]
  },
  {
   "cell_type": "code",
   "execution_count": 9,
   "id": "d7e76424",
   "metadata": {
    "ExecuteTime": {
     "end_time": "2023-02-01T14:37:06.441117Z",
     "start_time": "2023-02-01T14:37:06.427013Z"
    }
   },
   "outputs": [],
   "source": [
    "lines = ['안녕하세요. \\n', '파이썬\\n', '코딩 도장입니다.\\n']\n",
    "with open('hello.txt', 'w') as file:\n",
    "    file.writelines(lines)"
   ]
  },
  {
   "cell_type": "markdown",
   "id": "253ebe73",
   "metadata": {
    "ExecuteTime": {
     "end_time": "2023-02-01T14:37:24.700256Z",
     "start_time": "2023-02-01T14:37:24.687887Z"
    }
   },
   "source": [
    "## 파일의 내용을 한 줄씩 리스트로 가져오기"
   ]
  },
  {
   "cell_type": "code",
   "execution_count": 11,
   "id": "df73bd4c",
   "metadata": {
    "ExecuteTime": {
     "end_time": "2023-02-01T14:37:49.089322Z",
     "start_time": "2023-02-01T14:37:49.060593Z"
    }
   },
   "outputs": [
    {
     "name": "stdout",
     "output_type": "stream",
     "text": [
      "['안녕하세요. \\n', '파이썬\\n', '코딩 도장입니다.\\n']\n"
     ]
    }
   ],
   "source": [
    "with open('hello.txt', 'r') as file:\n",
    "    lines = file.readlines()\n",
    "    print(lines)"
   ]
  },
  {
   "cell_type": "code",
   "execution_count": 12,
   "id": "1eeda89b",
   "metadata": {
    "ExecuteTime": {
     "end_time": "2023-02-01T14:38:37.823438Z",
     "start_time": "2023-02-01T14:38:37.811941Z"
    }
   },
   "outputs": [
    {
     "name": "stdout",
     "output_type": "stream",
     "text": [
      "안녕하세요. \n",
      "파이썬\n",
      "코딩 도장입니다.\n",
      "\n"
     ]
    }
   ],
   "source": [
    "with open('hello.txt', 'r') as file:\n",
    "    line = None\n",
    "    while line != '':\n",
    "        line = file.readline()\n",
    "        print(line.strip('\\n'))"
   ]
  },
  {
   "cell_type": "code",
   "execution_count": 13,
   "id": "8f551682",
   "metadata": {
    "ExecuteTime": {
     "end_time": "2023-02-01T14:39:10.054814Z",
     "start_time": "2023-02-01T14:39:10.034641Z"
    }
   },
   "outputs": [
    {
     "name": "stdout",
     "output_type": "stream",
     "text": [
      "안녕하세요. \n",
      "파이썬\n",
      "코딩 도장입니다.\n"
     ]
    }
   ],
   "source": [
    "with open('hello.txt', 'r') as file:\n",
    "    for line in file:\n",
    "        print(line.strip('\\n'))"
   ]
  },
  {
   "cell_type": "markdown",
   "id": "fa539010",
   "metadata": {
    "ExecuteTime": {
     "end_time": "2023-02-01T14:39:33.776219Z",
     "start_time": "2023-02-01T14:39:33.766380Z"
    }
   },
   "source": [
    "## 파이썬 객체를 파일에 저장, 가져오기"
   ]
  },
  {
   "cell_type": "code",
   "execution_count": 15,
   "id": "b694b7df",
   "metadata": {
    "ExecuteTime": {
     "end_time": "2023-02-01T14:41:42.049589Z",
     "start_time": "2023-02-01T14:41:42.025622Z"
    }
   },
   "outputs": [],
   "source": [
    "# 객체를 파일에 저장하는 과정 = 피클링 반대를 언피클링\n",
    "import pickle\n",
    "\n",
    "name = 'james'\n",
    "age = 17\n",
    "address = '서울시 서초구 반포동'\n",
    "scores = {'korean': 90, 'english': 95, 'mathmatics': 85, 'science': 82}\n",
    "\n",
    "with open('james.p', 'wb') as file: #james.p 파일을 바이너리 모드(wb)로 열기\n",
    "    pickle.dump(name, file)\n",
    "    pickle.dump(age, file)\n",
    "    pickle.dump(address, file)\n",
    "    pickle.dump(scores, file)"
   ]
  },
  {
   "cell_type": "code",
   "execution_count": 17,
   "id": "99ec4acd",
   "metadata": {
    "ExecuteTime": {
     "end_time": "2023-02-01T14:42:12.067572Z",
     "start_time": "2023-02-01T14:42:12.056843Z"
    }
   },
   "outputs": [
    {
     "name": "stdout",
     "output_type": "stream",
     "text": [
      "james\n",
      "17\n",
      "서울시 서초구 반포동\n",
      "{'korean': 90, 'english': 95, 'mathmatics': 85, 'science': 82}\n"
     ]
    }
   ],
   "source": [
    "print(name)\n",
    "print(age)\n",
    "print(address)\n",
    "print(scores)"
   ]
  }
 ],
 "metadata": {
  "kernelspec": {
   "display_name": "Python 3 (ipykernel)",
   "language": "python",
   "name": "python3"
  },
  "language_info": {
   "codemirror_mode": {
    "name": "ipython",
    "version": 3
   },
   "file_extension": ".py",
   "mimetype": "text/x-python",
   "name": "python",
   "nbconvert_exporter": "python",
   "pygments_lexer": "ipython3",
   "version": "3.9.7"
  },
  "toc": {
   "base_numbering": 1,
   "nav_menu": {},
   "number_sections": true,
   "sideBar": true,
   "skip_h1_title": false,
   "title_cell": "Table of Contents",
   "title_sidebar": "Contents",
   "toc_cell": false,
   "toc_position": {},
   "toc_section_display": true,
   "toc_window_display": false
  }
 },
 "nbformat": 4,
 "nbformat_minor": 5
}
