{
 "cells": [
  {
   "cell_type": "markdown",
   "id": "a0c83a01",
   "metadata": {
    "ExecuteTime": {
     "end_time": "2023-02-01T02:01:18.162484Z",
     "start_time": "2023-02-01T02:01:18.147909Z"
    }
   },
   "source": [
    "# 22.5 리스트 표현식 사용하기"
   ]
  },
  {
   "cell_type": "code",
   "execution_count": 15,
   "id": "444d7cd2",
   "metadata": {
    "ExecuteTime": {
     "end_time": "2023-02-01T02:06:12.007523Z",
     "start_time": "2023-02-01T02:06:11.985765Z"
    }
   },
   "outputs": [
    {
     "data": {
      "text/plain": [
       "([0, 1, 2, 3, 4, 5, 6, 7, 8, 9], [0, 1, 2, 3, 4, 5, 6, 7, 8, 9])"
      ]
     },
     "execution_count": 15,
     "metadata": {},
     "output_type": "execute_result"
    }
   ],
   "source": [
    "a = [i for i in range(10)]\n",
    "b = list(i for i in range(10))\n",
    "a, b"
   ]
  },
  {
   "cell_type": "code",
   "execution_count": 14,
   "id": "d9989bbb",
   "metadata": {
    "ExecuteTime": {
     "end_time": "2023-02-01T02:06:07.340946Z",
     "start_time": "2023-02-01T02:06:07.319988Z"
    }
   },
   "outputs": [
    {
     "data": {
      "text/plain": [
       "([5, 6, 7, 8, 9, 10, 11, 12, 13, 14], [0, 2, 4, 6, 8, 10, 12, 14, 16, 18])"
      ]
     },
     "execution_count": 14,
     "metadata": {},
     "output_type": "execute_result"
    }
   ],
   "source": [
    "c = [i + 5 for i in range(10)]\n",
    "d = [i * 2 for i in range(10)]\n",
    "c, d"
   ]
  },
  {
   "cell_type": "code",
   "execution_count": 16,
   "id": "84188401",
   "metadata": {
    "ExecuteTime": {
     "end_time": "2023-02-01T02:07:42.777374Z",
     "start_time": "2023-02-01T02:07:42.762887Z"
    }
   },
   "outputs": [
    {
     "data": {
      "text/plain": [
       "[0, 2, 4, 6, 8]"
      ]
     },
     "execution_count": 16,
     "metadata": {},
     "output_type": "execute_result"
    }
   ],
   "source": [
    "a = [i for i in range(10) if i % 2 == 0]\n",
    "a\n",
    "# 0~9까지 생성하여 2의 배숭 숫자만 리스트 생성"
   ]
  },
  {
   "cell_type": "code",
   "execution_count": 17,
   "id": "8d8eef76",
   "metadata": {
    "ExecuteTime": {
     "end_time": "2023-02-01T02:08:38.805981Z",
     "start_time": "2023-02-01T02:08:38.792243Z"
    }
   },
   "outputs": [
    {
     "data": {
      "text/plain": [
       "[6, 8, 10, 12, 14]"
      ]
     },
     "execution_count": 17,
     "metadata": {},
     "output_type": "execute_result"
    }
   ],
   "source": [
    "b = [i + 5 for i in range(10) if i % 2 == 1]\n",
    "b\n",
    "# 0~9까지 중에 홀수에 5를 더하기"
   ]
  },
  {
   "cell_type": "code",
   "execution_count": 19,
   "id": "79757a77",
   "metadata": {
    "ExecuteTime": {
     "end_time": "2023-02-01T02:10:12.242647Z",
     "start_time": "2023-02-01T02:10:12.228131Z"
    }
   },
   "outputs": [
    {
     "name": "stdout",
     "output_type": "stream",
     "text": [
      "[2, 4, 6, 8, 10, 12, 14, 16, 18, 3, 6, 9, 12, 15, 18, 21, 24, 27, 4, 8, 12, 16, 20, 24, 28, 32, 36, 5, 10, 15, 20, 25, 30, 35, 40, 45, 6, 12, 18, 24, 30, 36, 42, 48, 54, 7, 14, 21, 28, 35, 42, 49, 56, 63, 8, 16, 24, 32, 40, 48, 56, 64, 72, 9, 18, 27, 36, 45, 54, 63, 72, 81] "
     ]
    }
   ],
   "source": [
    "a = [ i*j for j in range(2, 10) for i in range(1, 10)]\n",
    "print(a, end=' ')"
   ]
  },
  {
   "cell_type": "code",
   "execution_count": 20,
   "id": "e0b1fca8",
   "metadata": {
    "ExecuteTime": {
     "end_time": "2023-02-01T02:11:29.711395Z",
     "start_time": "2023-02-01T02:11:29.690410Z"
    }
   },
   "outputs": [
    {
     "name": "stdout",
     "output_type": "stream",
     "text": [
      "[2, 4, 6, 8, 10, 12, 14, 16, 18, 3, 6, 9, 12, 15, 18, 21, 24, 27, 4, 8, 12, 16, 20, 24, 28, 32, 36, 5, 10, 15, 20, 25, 30, 35, 40, 45, 6, 12, 18, 24, 30, 36, 42, 48, 54, 7, 14, 21, 28, 35, 42, 49, 56, 63, 8, 16, 24, 32, 40, 48, 56, 64, 72, 9, 18, 27, 36, 45, 54, 63, 72, 81] "
     ]
    }
   ],
   "source": [
    "a = [i * j for j in range(2, 10)\n",
    "    for i in range(1, 10)]\n",
    "print(a, end=' ')"
   ]
  },
  {
   "cell_type": "code",
   "execution_count": 23,
   "id": "9fab70a1",
   "metadata": {
    "ExecuteTime": {
     "end_time": "2023-02-01T02:12:40.228444Z",
     "start_time": "2023-02-01T02:12:40.201427Z"
    }
   },
   "outputs": [
    {
     "data": {
      "text/plain": [
       "([1, 2, 3, 4], int)"
      ]
     },
     "execution_count": 23,
     "metadata": {},
     "output_type": "execute_result"
    }
   ],
   "source": [
    "a = [1.2, 2.5, 3.7, 4.6]\n",
    "for i in range(len(a)):\n",
    "    a[i] = int(a[i])\n",
    "a, type(a[0])"
   ]
  },
  {
   "cell_type": "code",
   "execution_count": 24,
   "id": "def4171e",
   "metadata": {
    "ExecuteTime": {
     "end_time": "2023-02-01T02:13:07.200636Z",
     "start_time": "2023-02-01T02:13:07.183686Z"
    }
   },
   "outputs": [
    {
     "data": {
      "text/plain": [
       "[1, 2, 3, 4]"
      ]
     },
     "execution_count": 24,
     "metadata": {},
     "output_type": "execute_result"
    }
   ],
   "source": [
    "a = [1.2, 2.5, 3.7, 4.6]\n",
    "a = list(map(int, a))\n",
    "a\n",
    "#map 사용해서 int로 일괄처리"
   ]
  },
  {
   "cell_type": "code",
   "execution_count": 25,
   "id": "fd8374e3",
   "metadata": {
    "ExecuteTime": {
     "end_time": "2023-02-01T02:13:36.973481Z",
     "start_time": "2023-02-01T02:13:36.949713Z"
    }
   },
   "outputs": [
    {
     "data": {
      "text/plain": [
       "(['0', '1', '2', '3', '4', '5', '6', '7', '8', '9'], str)"
      ]
     },
     "execution_count": 25,
     "metadata": {},
     "output_type": "execute_result"
    }
   ],
   "source": [
    "a = list(map(str, range(10)))\n",
    "a, type(a[0])"
   ]
  },
  {
   "cell_type": "markdown",
   "id": "53acb877",
   "metadata": {
    "ExecuteTime": {
     "end_time": "2023-02-01T02:14:00.161737Z",
     "start_time": "2023-02-01T02:14:00.152518Z"
    }
   },
   "source": [
    "## input.split(), map"
   ]
  },
  {
   "cell_type": "code",
   "execution_count": 28,
   "id": "22c36eb6",
   "metadata": {
    "ExecuteTime": {
     "end_time": "2023-02-01T02:14:25.844085Z",
     "start_time": "2023-02-01T02:14:24.207008Z"
    }
   },
   "outputs": [
    {
     "name": "stdout",
     "output_type": "stream",
     "text": [
      "10 20\n"
     ]
    },
    {
     "data": {
      "text/plain": [
       "['10', '20']"
      ]
     },
     "execution_count": 28,
     "metadata": {},
     "output_type": "execute_result"
    }
   ],
   "source": [
    "a = input().split()\n",
    "a"
   ]
  },
  {
   "cell_type": "code",
   "execution_count": 29,
   "id": "9932a0eb",
   "metadata": {
    "ExecuteTime": {
     "end_time": "2023-02-01T02:14:55.075986Z",
     "start_time": "2023-02-01T02:14:53.419833Z"
    }
   },
   "outputs": [
    {
     "name": "stdout",
     "output_type": "stream",
     "text": [
      "10 20\n"
     ]
    },
    {
     "data": {
      "text/plain": [
       "[10, 20]"
      ]
     },
     "execution_count": 29,
     "metadata": {},
     "output_type": "execute_result"
    }
   ],
   "source": [
    "a = map(int, input().split())\n",
    "a\n",
    "list(a)"
   ]
  },
  {
   "cell_type": "code",
   "execution_count": 37,
   "id": "bdf00648",
   "metadata": {
    "ExecuteTime": {
     "end_time": "2023-02-01T02:16:31.913307Z",
     "start_time": "2023-02-01T02:16:31.894562Z"
    }
   },
   "outputs": [
    {
     "name": "stdout",
     "output_type": "stream",
     "text": [
      "a: 10 b: 20"
     ]
    }
   ],
   "source": [
    "a, b = [10, 20]\n",
    "print('a:',a, 'b:',b, end='')"
   ]
  },
  {
   "cell_type": "code",
   "execution_count": 38,
   "id": "1c73365d",
   "metadata": {
    "ExecuteTime": {
     "end_time": "2023-02-01T02:17:12.912022Z",
     "start_time": "2023-02-01T02:17:02.040365Z"
    }
   },
   "outputs": [
    {
     "name": "stdout",
     "output_type": "stream",
     "text": [
      "10 20\n"
     ]
    }
   ],
   "source": [
    "x = input().split()\n",
    "m = map(int, x)\n",
    "a, b = m"
   ]
  },
  {
   "cell_type": "markdown",
   "id": "7b138379",
   "metadata": {
    "ExecuteTime": {
     "end_time": "2023-02-01T02:37:10.890996Z",
     "start_time": "2023-02-01T02:37:10.871105Z"
    }
   },
   "source": [
    "# 22.7 튜플 응용"
   ]
  },
  {
   "cell_type": "code",
   "execution_count": 40,
   "id": "69a6d299",
   "metadata": {
    "ExecuteTime": {
     "end_time": "2023-02-01T02:37:31.138595Z",
     "start_time": "2023-02-01T02:37:31.118618Z"
    }
   },
   "outputs": [
    {
     "data": {
      "text/plain": [
       "(38, 21, 53, 62, 19, 53)"
      ]
     },
     "execution_count": 40,
     "metadata": {},
     "output_type": "execute_result"
    }
   ],
   "source": [
    "a = (38, 21, 53, 62, 19, 53)\n",
    "a"
   ]
  },
  {
   "cell_type": "code",
   "execution_count": 41,
   "id": "04b6bb02",
   "metadata": {
    "ExecuteTime": {
     "end_time": "2023-02-01T02:37:37.225265Z",
     "start_time": "2023-02-01T02:37:37.214066Z"
    }
   },
   "outputs": [
    {
     "data": {
      "text/plain": [
       "2"
      ]
     },
     "execution_count": 41,
     "metadata": {},
     "output_type": "execute_result"
    }
   ],
   "source": [
    "a.index(53) #값 53이 있는 인덱스 구하기"
   ]
  },
  {
   "cell_type": "code",
   "execution_count": 42,
   "id": "6b03a46c",
   "metadata": {
    "ExecuteTime": {
     "end_time": "2023-02-01T02:38:03.897309Z",
     "start_time": "2023-02-01T02:38:03.889295Z"
    }
   },
   "outputs": [
    {
     "data": {
      "text/plain": [
       "2"
      ]
     },
     "execution_count": 42,
     "metadata": {},
     "output_type": "execute_result"
    }
   ],
   "source": [
    "a = (10, 20, 30, 40, 50, 20, 40)\n",
    "a.count(20)"
   ]
  },
  {
   "cell_type": "code",
   "execution_count": 43,
   "id": "44518171",
   "metadata": {
    "ExecuteTime": {
     "end_time": "2023-02-01T02:38:39.947832Z",
     "start_time": "2023-02-01T02:38:39.933834Z"
    }
   },
   "outputs": [
    {
     "name": "stdout",
     "output_type": "stream",
     "text": [
      "38 21 53 62 19 "
     ]
    }
   ],
   "source": [
    "a = (38, 21, 53, 62, 19)\n",
    "for i in a:\n",
    "    print(i, end=' ')"
   ]
  },
  {
   "cell_type": "code",
   "execution_count": 44,
   "id": "289979c8",
   "metadata": {
    "ExecuteTime": {
     "end_time": "2023-02-01T02:38:59.875579Z",
     "start_time": "2023-02-01T02:38:59.862927Z"
    }
   },
   "outputs": [
    {
     "data": {
      "text/plain": [
       "(0, 2, 4, 6, 8)"
      ]
     },
     "execution_count": 44,
     "metadata": {},
     "output_type": "execute_result"
    }
   ],
   "source": [
    "a = tuple(i for i in range(10) if i % 2 == 0)\n",
    "a"
   ]
  },
  {
   "cell_type": "code",
   "execution_count": 45,
   "id": "2678f93d",
   "metadata": {
    "ExecuteTime": {
     "end_time": "2023-02-01T02:39:29.683713Z",
     "start_time": "2023-02-01T02:39:29.665763Z"
    }
   },
   "outputs": [
    {
     "data": {
      "text/plain": [
       "(1, 2, 3, 4)"
      ]
     },
     "execution_count": 45,
     "metadata": {},
     "output_type": "execute_result"
    }
   ],
   "source": [
    "a = (1.2, 2.5, 3.7, 4.6)\n",
    "a = tuple(map(int, a))\n",
    "a"
   ]
  },
  {
   "cell_type": "code",
   "execution_count": 46,
   "id": "96bec174",
   "metadata": {
    "ExecuteTime": {
     "end_time": "2023-02-01T02:40:02.562245Z",
     "start_time": "2023-02-01T02:40:02.548121Z"
    }
   },
   "outputs": [
    {
     "data": {
      "text/plain": [
       "(19, 62, 193)"
      ]
     },
     "execution_count": 46,
     "metadata": {},
     "output_type": "execute_result"
    }
   ],
   "source": [
    "a = (38, 21, 53, 62, 19)\n",
    "min(a), max(a), sum(a)"
   ]
  },
  {
   "cell_type": "markdown",
   "id": "1386a0b8",
   "metadata": {
    "ExecuteTime": {
     "end_time": "2023-02-01T02:40:54.099952Z",
     "start_time": "2023-02-01T02:40:54.091942Z"
    }
   },
   "source": [
    "## 22.9 퀴즈 - 리스트에서 특정 요소만 뽑기"
   ]
  },
  {
   "cell_type": "code",
   "execution_count": 7,
   "id": "e1e6e48f",
   "metadata": {
    "ExecuteTime": {
     "end_time": "2023-02-01T05:25:42.583073Z",
     "start_time": "2023-02-01T05:25:42.553647Z"
    }
   },
   "outputs": [
    {
     "data": {
      "text/plain": [
       "['alpha', 'bravo', 'delta', 'hotel', 'india']"
      ]
     },
     "execution_count": 7,
     "metadata": {},
     "output_type": "execute_result"
    }
   ],
   "source": [
    "a = ['alpha', 'bravo', 'charlie', 'delta', 'echo', 'foxtrot', 'golf', 'hotel', 'india']\n",
    "b = [i for i in a if len(i) == 5]\n",
    "b"
   ]
  },
  {
   "cell_type": "markdown",
   "id": "40da4a28",
   "metadata": {
    "ExecuteTime": {
     "end_time": "2023-02-01T05:26:13.374556Z",
     "start_time": "2023-02-01T05:26:13.359625Z"
    }
   },
   "source": [
    "## 22.9 심사문제"
   ]
  },
  {
   "cell_type": "code",
   "execution_count": 38,
   "id": "4f44520c",
   "metadata": {
    "ExecuteTime": {
     "end_time": "2023-02-01T05:39:55.020791Z",
     "start_time": "2023-02-01T05:39:53.083757Z"
    }
   },
   "outputs": [
    {
     "name": "stdout",
     "output_type": "stream",
     "text": [
      "10 20\n"
     ]
    },
    {
     "data": {
      "text/plain": [
       "[1024, 4096, 8192, 16384, 32768, 65536, 131072, 262144, 1048576]"
      ]
     },
     "execution_count": 38,
     "metadata": {},
     "output_type": "execute_result"
    }
   ],
   "source": [
    "start, stop = map(int, input().split())\n",
    "c = [2 ** i for i in range(start, stop+1)]\n",
    "c.pop(1)\n",
    "c.pop(-2)\n",
    "princ"
   ]
  },
  {
   "cell_type": "code",
   "execution_count": 35,
   "id": "829d5ddc",
   "metadata": {
    "ExecuteTime": {
     "end_time": "2023-02-01T05:38:14.754106Z",
     "start_time": "2023-02-01T05:38:14.737650Z"
    }
   },
   "outputs": [
    {
     "data": {
      "text/plain": [
       "[10, 30]"
      ]
     },
     "execution_count": 35,
     "metadata": {},
     "output_type": "execute_result"
    }
   ],
   "source": [
    "a = [10, 20, 30]\n",
    "a.pop(1)\n",
    "a"
   ]
  },
  {
   "cell_type": "code",
   "execution_count": null,
   "id": "a3b59e7b",
   "metadata": {},
   "outputs": [],
   "source": []
  },
  {
   "cell_type": "code",
   "execution_count": null,
   "id": "c09f0fb7",
   "metadata": {},
   "outputs": [],
   "source": []
  }
 ],
 "metadata": {
  "kernelspec": {
   "display_name": "Python 3 (ipykernel)",
   "language": "python",
   "name": "python3"
  },
  "language_info": {
   "codemirror_mode": {
    "name": "ipython",
    "version": 3
   },
   "file_extension": ".py",
   "mimetype": "text/x-python",
   "name": "python",
   "nbconvert_exporter": "python",
   "pygments_lexer": "ipython3",
   "version": "3.9.7"
  },
  "toc": {
   "base_numbering": 1,
   "nav_menu": {},
   "number_sections": true,
   "sideBar": true,
   "skip_h1_title": false,
   "title_cell": "Table of Contents",
   "title_sidebar": "Contents",
   "toc_cell": false,
   "toc_position": {},
   "toc_section_display": true,
   "toc_window_display": false
  }
 },
 "nbformat": 4,
 "nbformat_minor": 5
}
