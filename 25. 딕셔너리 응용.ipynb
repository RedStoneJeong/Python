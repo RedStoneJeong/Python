{
 "cells": [
  {
   "cell_type": "markdown",
   "id": "0df091b1",
   "metadata": {
    "ExecuteTime": {
     "end_time": "2023-02-01T07:24:09.323758Z",
     "start_time": "2023-02-01T07:24:09.316714Z"
    }
   },
   "source": [
    "## 딕셔너리에 키와 기본값 저장"
   ]
  },
  {
   "cell_type": "code",
   "execution_count": 3,
   "id": "b06f20da",
   "metadata": {
    "ExecuteTime": {
     "end_time": "2023-02-01T07:24:47.263387Z",
     "start_time": "2023-02-01T07:24:47.246356Z"
    }
   },
   "outputs": [
    {
     "data": {
      "text/plain": [
       "{'a': 10, 'b': 20, 'c': 30, 'd': 40, 'e': None}"
      ]
     },
     "execution_count": 3,
     "metadata": {},
     "output_type": "execute_result"
    }
   ],
   "source": [
    "x = {'a':10, 'b':20, 'c':30, 'd':40}\n",
    "x.setdefault('e') #setdefault(키)\n",
    "x"
   ]
  },
  {
   "cell_type": "code",
   "execution_count": 4,
   "id": "cf1b9ba5",
   "metadata": {
    "ExecuteTime": {
     "end_time": "2023-02-01T07:25:12.590366Z",
     "start_time": "2023-02-01T07:25:12.575332Z"
    }
   },
   "outputs": [
    {
     "data": {
      "text/plain": [
       "{'a': 10, 'b': 20, 'c': 30, 'd': 40, 'e': None, 'f': 100}"
      ]
     },
     "execution_count": 4,
     "metadata": {},
     "output_type": "execute_result"
    }
   ],
   "source": [
    "x.setdefault('f', 100)\n",
    "x"
   ]
  },
  {
   "cell_type": "markdown",
   "id": "c56d33b6",
   "metadata": {
    "ExecuteTime": {
     "end_time": "2023-02-01T07:25:24.262816Z",
     "start_time": "2023-02-01T07:25:24.255526Z"
    }
   },
   "source": [
    "## 키 값 수정"
   ]
  },
  {
   "cell_type": "code",
   "execution_count": 6,
   "id": "ed020615",
   "metadata": {
    "ExecuteTime": {
     "end_time": "2023-02-01T07:25:45.691935Z",
     "start_time": "2023-02-01T07:25:45.673549Z"
    }
   },
   "outputs": [
    {
     "data": {
      "text/plain": [
       "{'a': 90, 'b': 20, 'c': 30, 'd': 40}"
      ]
     },
     "execution_count": 6,
     "metadata": {},
     "output_type": "execute_result"
    }
   ],
   "source": [
    "x = {'a':10, 'b':20, 'c':30, 'd':40}\n",
    "x.update(a=90)\n",
    "x"
   ]
  },
  {
   "cell_type": "code",
   "execution_count": 7,
   "id": "71903220",
   "metadata": {
    "ExecuteTime": {
     "end_time": "2023-02-01T07:25:55.588460Z",
     "start_time": "2023-02-01T07:25:55.580853Z"
    }
   },
   "outputs": [
    {
     "data": {
      "text/plain": [
       "{'a': 90, 'b': 20, 'c': 30, 'd': 40, 'e': 50}"
      ]
     },
     "execution_count": 7,
     "metadata": {},
     "output_type": "execute_result"
    }
   ],
   "source": [
    "x.update(e=50)\n",
    "x"
   ]
  },
  {
   "cell_type": "code",
   "execution_count": 8,
   "id": "31415cfa",
   "metadata": {
    "ExecuteTime": {
     "end_time": "2023-02-01T07:26:35.594144Z",
     "start_time": "2023-02-01T07:26:35.585573Z"
    }
   },
   "outputs": [
    {
     "data": {
      "text/plain": [
       "{'a': 900, 'b': 20, 'c': 30, 'd': 40, 'e': 50, 'f': 60}"
      ]
     },
     "execution_count": 8,
     "metadata": {},
     "output_type": "execute_result"
    }
   ],
   "source": [
    "x.update(a=900, f=60)\n",
    "x"
   ]
  },
  {
   "cell_type": "code",
   "execution_count": 10,
   "id": "7ba78ae1",
   "metadata": {
    "ExecuteTime": {
     "end_time": "2023-02-01T07:27:48.879698Z",
     "start_time": "2023-02-01T07:27:48.874609Z"
    }
   },
   "outputs": [
    {
     "data": {
      "text/plain": [
       "{1: 'one', 2: 'two', 4: 'four'}"
      ]
     },
     "execution_count": 10,
     "metadata": {},
     "output_type": "execute_result"
    }
   ],
   "source": [
    "y = {1: 'one', 2: 'two'}\n",
    "y.update([[2, 'two'], [4, 'four']])\n",
    "y"
   ]
  },
  {
   "cell_type": "code",
   "execution_count": 12,
   "id": "4eb526f1",
   "metadata": {
    "ExecuteTime": {
     "end_time": "2023-02-01T07:28:09.018351Z",
     "start_time": "2023-02-01T07:28:09.003586Z"
    }
   },
   "outputs": [
    {
     "data": {
      "text/plain": [
       "{1: 'one', 2: 'two', 4: 'four'}"
      ]
     },
     "execution_count": 12,
     "metadata": {},
     "output_type": "execute_result"
    }
   ],
   "source": [
    "y.update(zip([1, 2], ['one', 'two']))\n",
    "y"
   ]
  },
  {
   "cell_type": "markdown",
   "id": "b8a4f8e5",
   "metadata": {
    "ExecuteTime": {
     "end_time": "2023-02-01T07:28:35.442003Z",
     "start_time": "2023-02-01T07:28:35.422601Z"
    }
   },
   "source": [
    "## 키-값 쌍 삭제"
   ]
  },
  {
   "cell_type": "code",
   "execution_count": 21,
   "id": "abbf9d4e",
   "metadata": {
    "ExecuteTime": {
     "end_time": "2023-02-01T07:30:08.991843Z",
     "start_time": "2023-02-01T07:30:08.979558Z"
    }
   },
   "outputs": [
    {
     "data": {
      "text/plain": [
       "{'b': 20, 'c': 30, 'd': 40}"
      ]
     },
     "execution_count": 21,
     "metadata": {},
     "output_type": "execute_result"
    }
   ],
   "source": [
    "x = {'a': 10, 'b':20, 'c':30, 'd':40}\n",
    "x.pop('a')\n",
    "x"
   ]
  },
  {
   "cell_type": "code",
   "execution_count": 22,
   "id": "44d81846",
   "metadata": {
    "ExecuteTime": {
     "end_time": "2023-02-01T07:30:09.967028Z",
     "start_time": "2023-02-01T07:30:09.956788Z"
    }
   },
   "outputs": [
    {
     "data": {
      "text/plain": [
       "{'c': 30, 'd': 40}"
      ]
     },
     "execution_count": 22,
     "metadata": {},
     "output_type": "execute_result"
    }
   ],
   "source": [
    "del x['b']\n",
    "x"
   ]
  },
  {
   "cell_type": "markdown",
   "id": "023378be",
   "metadata": {
    "ExecuteTime": {
     "end_time": "2023-02-01T07:30:24.770776Z",
     "start_time": "2023-02-01T07:30:24.766579Z"
    }
   },
   "source": [
    "## 임의의 키-값 쌍 삭제"
   ]
  },
  {
   "cell_type": "code",
   "execution_count": 26,
   "id": "165bd85b",
   "metadata": {
    "ExecuteTime": {
     "end_time": "2023-02-01T07:30:55.048114Z",
     "start_time": "2023-02-01T07:30:55.030556Z"
    }
   },
   "outputs": [
    {
     "data": {
      "text/plain": [
       "{'a': 10, 'b': 20, 'c': 30}"
      ]
     },
     "execution_count": 26,
     "metadata": {},
     "output_type": "execute_result"
    }
   ],
   "source": [
    "x = {'a': 10, 'b':20, 'c':30, 'd':40}\n",
    "x.popitem()\n",
    "x"
   ]
  },
  {
   "cell_type": "markdown",
   "id": "af71875b",
   "metadata": {
    "ExecuteTime": {
     "end_time": "2023-02-01T07:31:04.344870Z",
     "start_time": "2023-02-01T07:31:04.328601Z"
    }
   },
   "source": [
    "## 모든 값 삭제"
   ]
  },
  {
   "cell_type": "code",
   "execution_count": 28,
   "id": "e89f15ae",
   "metadata": {
    "ExecuteTime": {
     "end_time": "2023-02-01T07:31:14.000065Z",
     "start_time": "2023-02-01T07:31:13.988573Z"
    }
   },
   "outputs": [
    {
     "data": {
      "text/plain": [
       "{}"
      ]
     },
     "execution_count": 28,
     "metadata": {},
     "output_type": "execute_result"
    }
   ],
   "source": [
    "x = {'a': 10, 'b':20, 'c':30, 'd':40}\n",
    "x.clear()\n",
    "x"
   ]
  },
  {
   "cell_type": "markdown",
   "id": "9e366e2e",
   "metadata": {
    "ExecuteTime": {
     "end_time": "2023-02-01T07:31:19.042491Z",
     "start_time": "2023-02-01T07:31:19.028610Z"
    }
   },
   "source": [
    "## 키 값 가져오기"
   ]
  },
  {
   "cell_type": "code",
   "execution_count": 30,
   "id": "d8ab567a",
   "metadata": {
    "ExecuteTime": {
     "end_time": "2023-02-01T07:31:28.082213Z",
     "start_time": "2023-02-01T07:31:28.061606Z"
    }
   },
   "outputs": [
    {
     "data": {
      "text/plain": [
       "10"
      ]
     },
     "execution_count": 30,
     "metadata": {},
     "output_type": "execute_result"
    }
   ],
   "source": [
    "x = {'a': 10, 'b':20, 'c':30, 'd':40}\n",
    "x.get('a')"
   ]
  },
  {
   "cell_type": "markdown",
   "id": "314c1a37",
   "metadata": {
    "ExecuteTime": {
     "end_time": "2023-02-01T07:31:38.441924Z",
     "start_time": "2023-02-01T07:31:38.429840Z"
    }
   },
   "source": [
    "## 키-값 쌍으로 가져오기"
   ]
  },
  {
   "cell_type": "code",
   "execution_count": 32,
   "id": "3ca161be",
   "metadata": {
    "ExecuteTime": {
     "end_time": "2023-02-01T07:31:57.611129Z",
     "start_time": "2023-02-01T07:31:57.591731Z"
    }
   },
   "outputs": [
    {
     "data": {
      "text/plain": [
       "dict_items([('a', 10), ('b', 20), ('c', 30), ('d', 40)])"
      ]
     },
     "execution_count": 32,
     "metadata": {},
     "output_type": "execute_result"
    }
   ],
   "source": [
    "x = {'a': 10, 'b':20, 'c':30, 'd':40}\n",
    "x.items()"
   ]
  },
  {
   "cell_type": "code",
   "execution_count": 33,
   "id": "43250772",
   "metadata": {
    "ExecuteTime": {
     "end_time": "2023-02-01T07:32:02.419758Z",
     "start_time": "2023-02-01T07:32:02.398866Z"
    }
   },
   "outputs": [
    {
     "data": {
      "text/plain": [
       "dict_keys(['a', 'b', 'c', 'd'])"
      ]
     },
     "execution_count": 33,
     "metadata": {},
     "output_type": "execute_result"
    }
   ],
   "source": [
    "x.keys()"
   ]
  },
  {
   "cell_type": "code",
   "execution_count": 34,
   "id": "ccf22abc",
   "metadata": {
    "ExecuteTime": {
     "end_time": "2023-02-01T07:32:09.683106Z",
     "start_time": "2023-02-01T07:32:09.663068Z"
    }
   },
   "outputs": [
    {
     "data": {
      "text/plain": [
       "dict_values([10, 20, 30, 40])"
      ]
     },
     "execution_count": 34,
     "metadata": {},
     "output_type": "execute_result"
    }
   ],
   "source": [
    "x.values()"
   ]
  },
  {
   "cell_type": "markdown",
   "id": "4bd89d8c",
   "metadata": {
    "ExecuteTime": {
     "end_time": "2023-02-01T07:32:52.364605Z",
     "start_time": "2023-02-01T07:32:52.357900Z"
    }
   },
   "source": [
    "## 반복문으로 키-값 쌍으로 출력"
   ]
  },
  {
   "cell_type": "code",
   "execution_count": 36,
   "id": "3aaf2c6d",
   "metadata": {
    "ExecuteTime": {
     "end_time": "2023-02-01T07:33:09.108799Z",
     "start_time": "2023-02-01T07:33:09.088648Z"
    }
   },
   "outputs": [
    {
     "name": "stdout",
     "output_type": "stream",
     "text": [
      "a b c d "
     ]
    }
   ],
   "source": [
    "x = {'a': 10, 'b':20, 'c':30, 'd':40}\n",
    "for i in x:\n",
    "    print(i, end=' ')"
   ]
  },
  {
   "cell_type": "code",
   "execution_count": 38,
   "id": "e6d1799b",
   "metadata": {
    "ExecuteTime": {
     "end_time": "2023-02-01T07:33:34.872915Z",
     "start_time": "2023-02-01T07:33:34.858938Z"
    }
   },
   "outputs": [
    {
     "name": "stdout",
     "output_type": "stream",
     "text": [
      "a 10\n",
      "b 20\n",
      "c 30\n",
      "d 40\n"
     ]
    }
   ],
   "source": [
    "for key, value in x.items():\n",
    "    print(key, value)"
   ]
  },
  {
   "cell_type": "markdown",
   "id": "93b364f9",
   "metadata": {
    "ExecuteTime": {
     "end_time": "2023-02-01T07:33:42.336350Z",
     "start_time": "2023-02-01T07:33:42.331699Z"
    }
   },
   "source": [
    "## 키만 출력"
   ]
  },
  {
   "cell_type": "code",
   "execution_count": 40,
   "id": "12186b7a",
   "metadata": {
    "ExecuteTime": {
     "end_time": "2023-02-01T07:33:57.669914Z",
     "start_time": "2023-02-01T07:33:57.665346Z"
    }
   },
   "outputs": [
    {
     "name": "stdout",
     "output_type": "stream",
     "text": [
      "a b c d "
     ]
    }
   ],
   "source": [
    "for key in x.keys():\n",
    "    print(key, end=' ')"
   ]
  },
  {
   "cell_type": "markdown",
   "id": "64a465fa",
   "metadata": {
    "ExecuteTime": {
     "end_time": "2023-02-01T07:34:05.128540Z",
     "start_time": "2023-02-01T07:34:05.118840Z"
    }
   },
   "source": [
    "## 값만 출력"
   ]
  },
  {
   "cell_type": "code",
   "execution_count": 42,
   "id": "a91ee9e8",
   "metadata": {
    "ExecuteTime": {
     "end_time": "2023-02-01T07:34:20.374114Z",
     "start_time": "2023-02-01T07:34:20.364053Z"
    }
   },
   "outputs": [
    {
     "name": "stdout",
     "output_type": "stream",
     "text": [
      "10 20 30 40 "
     ]
    }
   ],
   "source": [
    "for value in x.values():\n",
    "    print(value, end=' ')"
   ]
  },
  {
   "cell_type": "markdown",
   "id": "362915f8",
   "metadata": {
    "ExecuteTime": {
     "end_time": "2023-02-01T07:34:33.468977Z",
     "start_time": "2023-02-01T07:34:33.460021Z"
    }
   },
   "source": [
    "## 딕셔너리 표현식"
   ]
  },
  {
   "cell_type": "code",
   "execution_count": 45,
   "id": "7c07bafb",
   "metadata": {
    "ExecuteTime": {
     "end_time": "2023-02-01T07:38:00.821021Z",
     "start_time": "2023-02-01T07:38:00.802362Z"
    }
   },
   "outputs": [
    {
     "data": {
      "text/plain": [
       "{'a': None, 'b': None, 'c': None, 'd': None}"
      ]
     },
     "execution_count": 45,
     "metadata": {},
     "output_type": "execute_result"
    }
   ],
   "source": [
    "keys = ['a', 'b', 'c', 'd']\n",
    "x = {key: value for key, value in dict.fromkeys(keys).items()}\n",
    "x"
   ]
  },
  {
   "cell_type": "code",
   "execution_count": 47,
   "id": "fc034239",
   "metadata": {
    "ExecuteTime": {
     "end_time": "2023-02-01T07:38:44.060744Z",
     "start_time": "2023-02-01T07:38:44.052216Z"
    }
   },
   "outputs": [
    {
     "data": {
      "text/plain": [
       "{'a': None, 'b': None, 'c': None, 'd': None}"
      ]
     },
     "execution_count": 47,
     "metadata": {},
     "output_type": "execute_result"
    }
   ],
   "source": [
    "x = {key: value for key, value in dict.fromkeys(keys).items()}\n",
    "x"
   ]
  },
  {
   "cell_type": "code",
   "execution_count": 51,
   "id": "6f18fb3b",
   "metadata": {
    "ExecuteTime": {
     "end_time": "2023-02-01T07:40:22.216989Z",
     "start_time": "2023-02-01T07:40:22.201042Z"
    }
   },
   "outputs": [
    {
     "ename": "RuntimeError",
     "evalue": "dictionary changed size during iteration",
     "output_type": "error",
     "traceback": [
      "\u001b[1;31m---------------------------------------------------------------------------\u001b[0m",
      "\u001b[1;31mRuntimeError\u001b[0m                              Traceback (most recent call last)",
      "\u001b[1;32mC:\\Users\\JEONGH~1\\AppData\\Local\\Temp/ipykernel_26220/1191271762.py\u001b[0m in \u001b[0;36m<module>\u001b[1;34m\u001b[0m\n\u001b[0;32m      1\u001b[0m \u001b[0mx\u001b[0m \u001b[1;33m=\u001b[0m \u001b[1;33m{\u001b[0m\u001b[1;34m'a'\u001b[0m\u001b[1;33m:\u001b[0m \u001b[1;36m10\u001b[0m\u001b[1;33m,\u001b[0m \u001b[1;34m'b'\u001b[0m\u001b[1;33m:\u001b[0m\u001b[1;36m20\u001b[0m\u001b[1;33m,\u001b[0m \u001b[1;34m'c'\u001b[0m\u001b[1;33m:\u001b[0m\u001b[1;36m30\u001b[0m\u001b[1;33m,\u001b[0m \u001b[1;34m'd'\u001b[0m\u001b[1;33m:\u001b[0m\u001b[1;36m40\u001b[0m\u001b[1;33m}\u001b[0m\u001b[1;33m\u001b[0m\u001b[1;33m\u001b[0m\u001b[0m\n\u001b[0;32m      2\u001b[0m \u001b[1;33m\u001b[0m\u001b[0m\n\u001b[1;32m----> 3\u001b[1;33m \u001b[1;32mfor\u001b[0m \u001b[0mkey\u001b[0m\u001b[1;33m,\u001b[0m \u001b[0mvalue\u001b[0m \u001b[1;32min\u001b[0m \u001b[0mx\u001b[0m\u001b[1;33m.\u001b[0m\u001b[0mitems\u001b[0m\u001b[1;33m(\u001b[0m\u001b[1;33m)\u001b[0m\u001b[1;33m:\u001b[0m\u001b[1;33m\u001b[0m\u001b[1;33m\u001b[0m\u001b[0m\n\u001b[0m\u001b[0;32m      4\u001b[0m     \u001b[1;32mif\u001b[0m \u001b[0mvalue\u001b[0m \u001b[1;33m==\u001b[0m \u001b[1;36m20\u001b[0m\u001b[1;33m:\u001b[0m\u001b[1;33m\u001b[0m\u001b[1;33m\u001b[0m\u001b[0m\n\u001b[0;32m      5\u001b[0m         \u001b[1;32mdel\u001b[0m \u001b[0mx\u001b[0m\u001b[1;33m[\u001b[0m\u001b[0mkey\u001b[0m\u001b[1;33m]\u001b[0m\u001b[1;33m\u001b[0m\u001b[1;33m\u001b[0m\u001b[0m\n",
      "\u001b[1;31mRuntimeError\u001b[0m: dictionary changed size during iteration"
     ]
    }
   ],
   "source": [
    "x = {'a': 10, 'b':20, 'c':30, 'd':40}\n",
    "\n",
    "for key, value in x.items():\n",
    "    if value == 20:\n",
    "        del x[key]\n",
    "\n",
    "print(x)\n",
    "\n",
    "# for문으로 반복하면서 삭제 불가"
   ]
  },
  {
   "cell_type": "code",
   "execution_count": 52,
   "id": "6189a490",
   "metadata": {
    "ExecuteTime": {
     "end_time": "2023-02-01T07:41:07.775632Z",
     "start_time": "2023-02-01T07:41:07.761104Z"
    }
   },
   "outputs": [
    {
     "data": {
      "text/plain": [
       "{'a': 10, 'c': 30, 'd': 40}"
      ]
     },
     "execution_count": 52,
     "metadata": {},
     "output_type": "execute_result"
    }
   ],
   "source": [
    "x = {'a': 10, 'b':20, 'c':30, 'd':40}\n",
    "x = {key: value for key, value in x.items() if value != 20}\n",
    "x"
   ]
  },
  {
   "cell_type": "markdown",
   "id": "d85fcd5f",
   "metadata": {
    "ExecuteTime": {
     "end_time": "2023-02-01T07:41:21.417863Z",
     "start_time": "2023-02-01T07:41:21.403597Z"
    }
   },
   "source": [
    "## 딕셔너리 안에서 딕셔너리 사용"
   ]
  },
  {
   "cell_type": "code",
   "execution_count": 54,
   "id": "3e3a52a3",
   "metadata": {
    "ExecuteTime": {
     "end_time": "2023-02-01T07:41:35.881851Z",
     "start_time": "2023-02-01T07:41:35.868293Z"
    }
   },
   "outputs": [
    {
     "name": "stdout",
     "output_type": "stream",
     "text": [
      "6051.8\n"
     ]
    }
   ],
   "source": [
    "terrestrial_planet = {\n",
    "    'Mercury': {\n",
    "        'mean_radius': 2439.7,\n",
    "        'mass': 3.3022E+23,\n",
    "        'orbital_period': 87.969\n",
    "    },\n",
    "    'Venus': {\n",
    "        'mean_radius': 6051.8,\n",
    "        'mass': 4.8676E+24,\n",
    "        'orbital_period': 224.70069,\n",
    "    },\n",
    "    'Earth': {\n",
    "        'mean_radius': 6371.0,\n",
    "        'mass': 5.97219E+24,\n",
    "        'orbital_period': 365.25641,\n",
    "    },\n",
    "    'Mars': {\n",
    "        'mean_radius': 3389.5,\n",
    "        'mass': 6.4185E+23,\n",
    "        'orbital_period': 686.9600,\n",
    "    }\n",
    "}\n",
    " \n",
    "print(terrestrial_planet['Venus']['mean_radius'])    # 6051.8"
   ]
  },
  {
   "cell_type": "code",
   "execution_count": 55,
   "id": "797c1371",
   "metadata": {
    "ExecuteTime": {
     "end_time": "2023-02-01T07:42:07.482748Z",
     "start_time": "2023-02-01T07:42:07.476666Z"
    }
   },
   "outputs": [
    {
     "name": "stdout",
     "output_type": "stream",
     "text": [
      "6051.8\n"
     ]
    }
   ],
   "source": [
    "print(terrestrial_planet['Venus']['mean_radius'])"
   ]
  },
  {
   "cell_type": "markdown",
   "id": "2dc460e4",
   "metadata": {
    "ExecuteTime": {
     "end_time": "2023-02-01T07:42:16.562534Z",
     "start_time": "2023-02-01T07:42:16.542150Z"
    }
   },
   "source": [
    "## 할당과 복사"
   ]
  },
  {
   "cell_type": "code",
   "execution_count": 57,
   "id": "a9604b6f",
   "metadata": {
    "ExecuteTime": {
     "end_time": "2023-02-01T07:42:30.990811Z",
     "start_time": "2023-02-01T07:42:30.971603Z"
    }
   },
   "outputs": [],
   "source": [
    "x = {'a': 0, 'b': 0, 'c': 0, 'd': 0}\n",
    "y = x"
   ]
  },
  {
   "cell_type": "code",
   "execution_count": 58,
   "id": "567b299b",
   "metadata": {
    "ExecuteTime": {
     "end_time": "2023-02-01T07:42:37.221032Z",
     "start_time": "2023-02-01T07:42:37.209169Z"
    }
   },
   "outputs": [
    {
     "data": {
      "text/plain": [
       "True"
      ]
     },
     "execution_count": 58,
     "metadata": {},
     "output_type": "execute_result"
    }
   ],
   "source": [
    "x is y"
   ]
  },
  {
   "cell_type": "code",
   "execution_count": 60,
   "id": "4feffaa8",
   "metadata": {
    "ExecuteTime": {
     "end_time": "2023-02-01T07:42:50.932771Z",
     "start_time": "2023-02-01T07:42:50.918595Z"
    }
   },
   "outputs": [
    {
     "data": {
      "text/plain": [
       "({'a': 99, 'b': 0, 'c': 0, 'd': 0}, {'a': 99, 'b': 0, 'c': 0, 'd': 0})"
      ]
     },
     "execution_count": 60,
     "metadata": {},
     "output_type": "execute_result"
    }
   ],
   "source": [
    "y['a'] = 99\n",
    "x, y"
   ]
  },
  {
   "cell_type": "code",
   "execution_count": 61,
   "id": "fb5a7a29",
   "metadata": {
    "ExecuteTime": {
     "end_time": "2023-02-01T07:43:09.018078Z",
     "start_time": "2023-02-01T07:43:09.010356Z"
    }
   },
   "outputs": [],
   "source": [
    "x = {'a': 0, 'b': 0, 'c': 0, 'd': 0}"
   ]
  },
  {
   "cell_type": "code",
   "execution_count": 62,
   "id": "2c73cdd2",
   "metadata": {
    "ExecuteTime": {
     "end_time": "2023-02-01T07:43:15.410979Z",
     "start_time": "2023-02-01T07:43:15.404313Z"
    }
   },
   "outputs": [
    {
     "data": {
      "text/plain": [
       "{'a': 0, 'b': 0, 'c': 0, 'd': 0}"
      ]
     },
     "execution_count": 62,
     "metadata": {},
     "output_type": "execute_result"
    }
   ],
   "source": [
    "y = x.copy()\n",
    "y"
   ]
  },
  {
   "cell_type": "code",
   "execution_count": 67,
   "id": "30437f11",
   "metadata": {
    "ExecuteTime": {
     "end_time": "2023-02-01T07:43:38.602168Z",
     "start_time": "2023-02-01T07:43:38.587979Z"
    }
   },
   "outputs": [
    {
     "data": {
      "text/plain": [
       "False"
      ]
     },
     "execution_count": 67,
     "metadata": {},
     "output_type": "execute_result"
    }
   ],
   "source": [
    "x is y"
   ]
  },
  {
   "cell_type": "code",
   "execution_count": 66,
   "id": "e7ab654e",
   "metadata": {
    "ExecuteTime": {
     "end_time": "2023-02-01T07:43:37.239943Z",
     "start_time": "2023-02-01T07:43:37.234387Z"
    }
   },
   "outputs": [
    {
     "data": {
      "text/plain": [
       "True"
      ]
     },
     "execution_count": 66,
     "metadata": {},
     "output_type": "execute_result"
    }
   ],
   "source": [
    "x == y"
   ]
  },
  {
   "cell_type": "code",
   "execution_count": 69,
   "id": "3bfdf440",
   "metadata": {
    "ExecuteTime": {
     "end_time": "2023-02-01T07:43:51.930693Z",
     "start_time": "2023-02-01T07:43:51.918643Z"
    }
   },
   "outputs": [
    {
     "data": {
      "text/plain": [
       "({'a': 99, 'b': 0, 'c': 0, 'd': 0}, {'a': 0, 'b': 0, 'c': 0, 'd': 0})"
      ]
     },
     "execution_count": 69,
     "metadata": {},
     "output_type": "execute_result"
    }
   ],
   "source": [
    "x['a'] = 99\n",
    "x, y"
   ]
  },
  {
   "cell_type": "markdown",
   "id": "8c48a4f4",
   "metadata": {
    "ExecuteTime": {
     "end_time": "2023-02-01T07:44:04.143683Z",
     "start_time": "2023-02-01T07:44:04.134660Z"
    }
   },
   "source": [
    "## 중첩 딕셔너리의 할당과 복사"
   ]
  },
  {
   "cell_type": "code",
   "execution_count": 72,
   "id": "c9eceff2",
   "metadata": {
    "ExecuteTime": {
     "end_time": "2023-02-01T07:44:52.338081Z",
     "start_time": "2023-02-01T07:44:52.322073Z"
    }
   },
   "outputs": [],
   "source": [
    "x = {'a': {'python':'2.7'}, 'b': {'python':'3.6'}}\n",
    "y = x.copy()"
   ]
  },
  {
   "cell_type": "code",
   "execution_count": 74,
   "id": "40e63d1b",
   "metadata": {
    "ExecuteTime": {
     "end_time": "2023-02-01T07:45:07.845581Z",
     "start_time": "2023-02-01T07:45:07.824049Z"
    }
   },
   "outputs": [
    {
     "data": {
      "text/plain": [
       "{'a': {'python': '2.7.15'}, 'b': {'python': '3.6'}}"
      ]
     },
     "execution_count": 74,
     "metadata": {},
     "output_type": "execute_result"
    }
   ],
   "source": [
    "y['a']['python'] = '2.7.15'\n",
    "x"
   ]
  },
  {
   "cell_type": "code",
   "execution_count": 78,
   "id": "22b03952",
   "metadata": {
    "ExecuteTime": {
     "end_time": "2023-02-01T07:46:06.703032Z",
     "start_time": "2023-02-01T07:46:06.684509Z"
    }
   },
   "outputs": [
    {
     "data": {
      "text/plain": [
       "({'a': {'python': '2.7.15'}, 'b': {'python': '3.6'}},\n",
       " {'a': {'python': '2.7'}, 'b': {'python': '3.6'}})"
      ]
     },
     "execution_count": 78,
     "metadata": {},
     "output_type": "execute_result"
    }
   ],
   "source": [
    "#deepcopy 사용해야함\n",
    "import copy\n",
    "x = {'a': {'python':'2.7'}, 'b': {'python':'3.6'}}\n",
    "y = copy.deepcopy(x)\n",
    "y['a']['python'] = '2.7.15'\n",
    "y, x"
   ]
  },
  {
   "cell_type": "markdown",
   "id": "61058dce",
   "metadata": {
    "ExecuteTime": {
     "end_time": "2023-02-01T07:50:31.487996Z",
     "start_time": "2023-02-01T07:50:31.478889Z"
    }
   },
   "source": [
    "## 연습문제 - 평균 구하기"
   ]
  },
  {
   "cell_type": "code",
   "execution_count": 81,
   "id": "33e87e04",
   "metadata": {
    "ExecuteTime": {
     "end_time": "2023-02-01T07:51:03.782962Z",
     "start_time": "2023-02-01T07:51:03.768514Z"
    }
   },
   "outputs": [
    {
     "data": {
      "text/plain": [
       "89.25"
      ]
     },
     "execution_count": 81,
     "metadata": {},
     "output_type": "execute_result"
    }
   ],
   "source": [
    "maria = {'korean': 94, 'english': 91, 'mathematics': 89, 'science': 83}\n",
    "average = sum(maria.values()) / len(maria)\n",
    "average"
   ]
  }
 ],
 "metadata": {
  "kernelspec": {
   "display_name": "Python 3 (ipykernel)",
   "language": "python",
   "name": "python3"
  },
  "language_info": {
   "codemirror_mode": {
    "name": "ipython",
    "version": 3
   },
   "file_extension": ".py",
   "mimetype": "text/x-python",
   "name": "python",
   "nbconvert_exporter": "python",
   "pygments_lexer": "ipython3",
   "version": "3.9.7"
  },
  "toc": {
   "base_numbering": 1,
   "nav_menu": {},
   "number_sections": true,
   "sideBar": true,
   "skip_h1_title": false,
   "title_cell": "Table of Contents",
   "title_sidebar": "Contents",
   "toc_cell": false,
   "toc_position": {},
   "toc_section_display": true,
   "toc_window_display": false
  }
 },
 "nbformat": 4,
 "nbformat_minor": 5
}
