{
 "cells": [
  {
   "cell_type": "markdown",
   "id": "354057a3",
   "metadata": {
    "ExecuteTime": {
     "end_time": "2023-02-03T03:37:30.139575Z",
     "start_time": "2023-02-03T03:37:30.128569Z"
    }
   },
   "source": [
    "## 위치 인수와 리스트 언패킹"
   ]
  },
  {
   "cell_type": "code",
   "execution_count": 3,
   "id": "3d29226d",
   "metadata": {
    "ExecuteTime": {
     "end_time": "2023-02-03T03:37:43.722410Z",
     "start_time": "2023-02-03T03:37:43.702352Z"
    }
   },
   "outputs": [
    {
     "name": "stdout",
     "output_type": "stream",
     "text": [
      "10 20 30\n"
     ]
    }
   ],
   "source": [
    "print(10, 20, 30)"
   ]
  },
  {
   "cell_type": "code",
   "execution_count": 4,
   "id": "597760b5",
   "metadata": {
    "ExecuteTime": {
     "end_time": "2023-02-03T03:38:14.056112Z",
     "start_time": "2023-02-03T03:38:14.032906Z"
    }
   },
   "outputs": [
    {
     "name": "stdout",
     "output_type": "stream",
     "text": [
      "10\n",
      "20\n",
      "30\n"
     ]
    }
   ],
   "source": [
    "def print_numbers(a,b,c):\n",
    "    print(a)\n",
    "    print(b)\n",
    "    print(c)\n",
    "    \n",
    "print_numbers(10, 20, 30)"
   ]
  },
  {
   "cell_type": "markdown",
   "id": "67136b08",
   "metadata": {
    "ExecuteTime": {
     "end_time": "2023-02-03T03:38:26.128949Z",
     "start_time": "2023-02-03T03:38:26.111487Z"
    }
   },
   "source": [
    "## 언패킹 사용"
   ]
  },
  {
   "cell_type": "code",
   "execution_count": 7,
   "id": "7132b3b1",
   "metadata": {
    "ExecuteTime": {
     "end_time": "2023-02-03T03:39:25.006279Z",
     "start_time": "2023-02-03T03:39:24.990184Z"
    }
   },
   "outputs": [
    {
     "name": "stdout",
     "output_type": "stream",
     "text": [
      "10\n",
      "20\n",
      "30\n"
     ]
    }
   ],
   "source": [
    "# * = 언패킹 > 리스트의 포장을 푼다.\n",
    "x = [10, 20, 30]\n",
    "print_numbers(*x)"
   ]
  },
  {
   "cell_type": "code",
   "execution_count": 8,
   "id": "68cb4bc0",
   "metadata": {
    "ExecuteTime": {
     "end_time": "2023-02-03T03:39:38.490927Z",
     "start_time": "2023-02-03T03:39:38.475556Z"
    }
   },
   "outputs": [
    {
     "name": "stdout",
     "output_type": "stream",
     "text": [
      "10\n",
      "20\n",
      "30\n"
     ]
    }
   ],
   "source": [
    "print_numbers(*[10, 20, 30])"
   ]
  },
  {
   "cell_type": "code",
   "execution_count": 9,
   "id": "d0989670",
   "metadata": {
    "ExecuteTime": {
     "end_time": "2023-02-03T03:40:01.536825Z",
     "start_time": "2023-02-03T03:40:00.543043Z"
    }
   },
   "outputs": [
    {
     "ename": "TypeError",
     "evalue": "print_numbers() missing 1 required positional argument: 'c'",
     "output_type": "error",
     "traceback": [
      "\u001b[1;31m---------------------------------------------------------------------------\u001b[0m",
      "\u001b[1;31mTypeError\u001b[0m                                 Traceback (most recent call last)",
      "\u001b[1;32mC:\\Users\\JEONGH~1\\AppData\\Local\\Temp/ipykernel_36272/2189151027.py\u001b[0m in \u001b[0;36m<module>\u001b[1;34m\u001b[0m\n\u001b[0;32m      1\u001b[0m \u001b[1;31m# 요소를 3개 넣어야한다.\u001b[0m\u001b[1;33m\u001b[0m\u001b[1;33m\u001b[0m\u001b[0m\n\u001b[1;32m----> 2\u001b[1;33m \u001b[0mprint_numbers\u001b[0m\u001b[1;33m(\u001b[0m\u001b[1;33m*\u001b[0m\u001b[1;33m[\u001b[0m\u001b[1;36m10\u001b[0m\u001b[1;33m,\u001b[0m \u001b[1;36m20\u001b[0m\u001b[1;33m]\u001b[0m\u001b[1;33m)\u001b[0m\u001b[1;33m\u001b[0m\u001b[1;33m\u001b[0m\u001b[0m\n\u001b[0m",
      "\u001b[1;31mTypeError\u001b[0m: print_numbers() missing 1 required positional argument: 'c'"
     ]
    }
   ],
   "source": [
    "# 요소를 3개 넣어야한다.\n",
    "print_numbers(*[10, 20])"
   ]
  },
  {
   "cell_type": "markdown",
   "id": "d712f86e",
   "metadata": {
    "ExecuteTime": {
     "end_time": "2023-02-03T03:40:15.096527Z",
     "start_time": "2023-02-03T03:40:15.083656Z"
    }
   },
   "source": [
    "## 가변 인수 함수"
   ]
  },
  {
   "cell_type": "code",
   "execution_count": 13,
   "id": "dd68b399",
   "metadata": {
    "ExecuteTime": {
     "end_time": "2023-02-03T03:42:28.103321Z",
     "start_time": "2023-02-03T03:42:28.087361Z"
    }
   },
   "outputs": [],
   "source": [
    "#args앞에 *을 붙이면 for문이 돌면서 args안에 있는 값들이 나옴\n",
    "def print_numbers(*args):\n",
    "    for arg in args:\n",
    "        print(arg)"
   ]
  },
  {
   "cell_type": "code",
   "execution_count": 12,
   "id": "add932f2",
   "metadata": {
    "ExecuteTime": {
     "end_time": "2023-02-03T03:40:58.537282Z",
     "start_time": "2023-02-03T03:40:58.525284Z"
    }
   },
   "outputs": [
    {
     "name": "stdout",
     "output_type": "stream",
     "text": [
      "10\n"
     ]
    }
   ],
   "source": [
    "print_numbers(10)"
   ]
  },
  {
   "cell_type": "code",
   "execution_count": 14,
   "id": "d8e20c1d",
   "metadata": {
    "ExecuteTime": {
     "end_time": "2023-02-03T03:42:37.375898Z",
     "start_time": "2023-02-03T03:42:37.362511Z"
    }
   },
   "outputs": [
    {
     "name": "stdout",
     "output_type": "stream",
     "text": [
      "10\n",
      "20\n",
      "30\n",
      "40\n"
     ]
    }
   ],
   "source": [
    "print_numbers(10, 20, 30, 40)"
   ]
  },
  {
   "cell_type": "code",
   "execution_count": 16,
   "id": "96e68789",
   "metadata": {
    "ExecuteTime": {
     "end_time": "2023-02-03T03:43:03.052257Z",
     "start_time": "2023-02-03T03:43:03.045678Z"
    }
   },
   "outputs": [
    {
     "name": "stdout",
     "output_type": "stream",
     "text": [
      "10\n"
     ]
    }
   ],
   "source": [
    "x = [10]\n",
    "print_numbers(*x)"
   ]
  },
  {
   "cell_type": "code",
   "execution_count": 17,
   "id": "bd5366c0",
   "metadata": {
    "ExecuteTime": {
     "end_time": "2023-02-03T03:43:18.699976Z",
     "start_time": "2023-02-03T03:43:18.683597Z"
    }
   },
   "outputs": [
    {
     "name": "stdout",
     "output_type": "stream",
     "text": [
      "10\n",
      "20\n",
      "30\n",
      "40\n"
     ]
    }
   ],
   "source": [
    "y = [10, 20, 30, 40]\n",
    "print_numbers(*y)"
   ]
  },
  {
   "cell_type": "markdown",
   "id": "cd37d6eb",
   "metadata": {
    "ExecuteTime": {
     "end_time": "2023-02-03T03:43:33.202334Z",
     "start_time": "2023-02-03T03:43:33.195878Z"
    }
   },
   "source": [
    "## 키워드 인수"
   ]
  },
  {
   "cell_type": "code",
   "execution_count": 19,
   "id": "cb39583c",
   "metadata": {
    "ExecuteTime": {
     "end_time": "2023-02-03T03:44:25.028301Z",
     "start_time": "2023-02-03T03:44:25.011451Z"
    }
   },
   "outputs": [
    {
     "name": "stdout",
     "output_type": "stream",
     "text": [
      "이름:  홍길동\n",
      "나이:  30\n",
      "주소:  서울시 용산구 이촌동\n"
     ]
    }
   ],
   "source": [
    "def personal_info(name, age, address):\n",
    "    print('이름: ', name)\n",
    "    print('나이: ', age)\n",
    "    print('주소: ', address)\n",
    "    \n",
    "personal_info('홍길동', 30, '서울시 용산구 이촌동')"
   ]
  },
  {
   "cell_type": "markdown",
   "id": "0a5a3e44",
   "metadata": {
    "ExecuteTime": {
     "end_time": "2023-02-03T03:44:50.847402Z",
     "start_time": "2023-02-03T03:44:50.834997Z"
    }
   },
   "source": [
    "## 키워드 인수와 딕셔너리 언패킹"
   ]
  },
  {
   "cell_type": "code",
   "execution_count": 21,
   "id": "8835b041",
   "metadata": {
    "ExecuteTime": {
     "end_time": "2023-02-03T03:45:39.798596Z",
     "start_time": "2023-02-03T03:45:39.786426Z"
    }
   },
   "outputs": [
    {
     "name": "stdout",
     "output_type": "stream",
     "text": [
      "이름:  홍길동\n",
      "나이:  30\n",
      "주소:  서울시 용산구 이촌동\n"
     ]
    }
   ],
   "source": [
    "# ** : 딕셔너리 언패킹, key-value형태이기 때문에 **사용\n",
    "x = {'name': '홍길동', 'age':30, 'address':'서울시 용산구 이촌동'}\n",
    "personal_info(**x)"
   ]
  },
  {
   "cell_type": "code",
   "execution_count": 22,
   "id": "2d7fac6a",
   "metadata": {
    "ExecuteTime": {
     "end_time": "2023-02-03T03:46:20.712228Z",
     "start_time": "2023-02-03T03:46:20.700641Z"
    }
   },
   "outputs": [
    {
     "name": "stdout",
     "output_type": "stream",
     "text": [
      "이름:  홍길동\n",
      "나이:  30\n",
      "주소:  서울시 용산구 이촌동\n"
     ]
    }
   ],
   "source": [
    "personal_info(**{'name': '홍길동', 'age':30, 'address':'서울시 용산구 이촌동'})"
   ]
  },
  {
   "cell_type": "markdown",
   "id": "61f69053",
   "metadata": {
    "ExecuteTime": {
     "end_time": "2023-02-03T03:47:06.793987Z",
     "start_time": "2023-02-03T03:47:06.772151Z"
    }
   },
   "source": [
    "## 키워드 인수를 사용하는 가변 인수 함수 사용"
   ]
  },
  {
   "cell_type": "code",
   "execution_count": 25,
   "id": "6c8fede8",
   "metadata": {
    "ExecuteTime": {
     "end_time": "2023-02-03T03:50:53.271203Z",
     "start_time": "2023-02-03T03:50:53.250548Z"
    }
   },
   "outputs": [],
   "source": [
    "def personal_info(**kwargs):\n",
    "    for kw, arg in kwargs.items():\n",
    "        print(kw, ': ', arg, sep=' ')"
   ]
  },
  {
   "cell_type": "code",
   "execution_count": 27,
   "id": "d8a66638",
   "metadata": {
    "ExecuteTime": {
     "end_time": "2023-02-03T03:51:23.090562Z",
     "start_time": "2023-02-03T03:51:23.071573Z"
    }
   },
   "outputs": [
    {
     "name": "stdout",
     "output_type": "stream",
     "text": [
      "name :  홍길동\n",
      "name :  홍길동\n",
      "age :  30\n",
      "address :  서울시 용산구 이촌동\n"
     ]
    }
   ],
   "source": [
    "personal_info(name='홍길동')\n",
    "personal_info(name='홍길동', age=30, address='서울시 용산구 이촌동')"
   ]
  },
  {
   "cell_type": "code",
   "execution_count": 28,
   "id": "ab4288e2",
   "metadata": {
    "ExecuteTime": {
     "end_time": "2023-02-03T03:51:50.241711Z",
     "start_time": "2023-02-03T03:51:50.219402Z"
    }
   },
   "outputs": [
    {
     "name": "stdout",
     "output_type": "stream",
     "text": [
      "name :  홍길동\n"
     ]
    }
   ],
   "source": [
    "x = {'name': '홍길동'}\n",
    "personal_info(**x)"
   ]
  },
  {
   "cell_type": "code",
   "execution_count": 29,
   "id": "58764143",
   "metadata": {
    "ExecuteTime": {
     "end_time": "2023-02-03T03:53:11.342898Z",
     "start_time": "2023-02-03T03:53:11.318243Z"
    }
   },
   "outputs": [],
   "source": [
    "def personal_info(**kwargs):\n",
    "    if 'name' in kwargs:\n",
    "        print('이름: ', kwargs['name'])\n",
    "    if 'age' in kwargs:\n",
    "        print('나이: ', kwargs['age'])\n",
    "    if 'address' in kwargs:\n",
    "        print('주소: ', kwargs['address'])"
   ]
  },
  {
   "cell_type": "markdown",
   "id": "985df3af",
   "metadata": {
    "ExecuteTime": {
     "end_time": "2023-02-03T03:53:44.516306Z",
     "start_time": "2023-02-03T03:53:44.497496Z"
    }
   },
   "source": [
    "## 매개변수에 초기값 저장"
   ]
  },
  {
   "cell_type": "code",
   "execution_count": 32,
   "id": "6154127d",
   "metadata": {
    "ExecuteTime": {
     "end_time": "2023-02-03T03:54:35.186391Z",
     "start_time": "2023-02-03T03:54:35.175422Z"
    }
   },
   "outputs": [],
   "source": [
    "def personal_info(name, age, address='비공개'):\n",
    "    print('이름: ', name)\n",
    "    print('나이: ', age)\n",
    "    print('주소: ', address)"
   ]
  },
  {
   "cell_type": "code",
   "execution_count": 34,
   "id": "a9532b6f",
   "metadata": {
    "ExecuteTime": {
     "end_time": "2023-02-03T03:54:50.128212Z",
     "start_time": "2023-02-03T03:54:50.116244Z"
    }
   },
   "outputs": [
    {
     "name": "stdout",
     "output_type": "stream",
     "text": [
      "이름:  홍길동\n",
      "나이:  20\n",
      "주소:  비공개\n"
     ]
    }
   ],
   "source": [
    "personal_info('홍길동', 20)"
   ]
  },
  {
   "cell_type": "code",
   "execution_count": 35,
   "id": "1e8cf8ad",
   "metadata": {
    "ExecuteTime": {
     "end_time": "2023-02-03T03:55:08.641546Z",
     "start_time": "2023-02-03T03:55:08.619015Z"
    }
   },
   "outputs": [
    {
     "name": "stdout",
     "output_type": "stream",
     "text": [
      "이름:  홍길동\n",
      "나이:  20\n",
      "주소:  서울시 용산구 이촌동\n"
     ]
    }
   ],
   "source": [
    "personal_info('홍길동', 20, '서울시 용산구 이촌동')"
   ]
  },
  {
   "cell_type": "markdown",
   "id": "6edb4067",
   "metadata": {
    "ExecuteTime": {
     "end_time": "2023-02-03T03:55:22.224703Z",
     "start_time": "2023-02-03T03:55:22.209124Z"
    }
   },
   "source": [
    "## 초기값이 지정된 매개변수 위치"
   ]
  },
  {
   "cell_type": "code",
   "execution_count": 37,
   "id": "e3531bd4",
   "metadata": {
    "ExecuteTime": {
     "end_time": "2023-02-03T03:56:27.548752Z",
     "start_time": "2023-02-03T03:56:27.527387Z"
    }
   },
   "outputs": [
    {
     "ename": "SyntaxError",
     "evalue": "non-default argument follows default argument (Temp/ipykernel_36272/392427275.py, line 1)",
     "output_type": "error",
     "traceback": [
      "\u001b[1;36m  File \u001b[1;32m\"C:\\Users\\JEONGH~1\\AppData\\Local\\Temp/ipykernel_36272/392427275.py\"\u001b[1;36m, line \u001b[1;32m1\u001b[0m\n\u001b[1;33m    def personal_info(name, address='비공개', age):\u001b[0m\n\u001b[1;37m                                              ^\u001b[0m\n\u001b[1;31mSyntaxError\u001b[0m\u001b[1;31m:\u001b[0m non-default argument follows default argument\n"
     ]
    }
   ],
   "source": [
    "# 초기값이 지정된 매개변수는 뒤쪽으로 몰아주기\n",
    "def personal_info(name, address='비공개', age):\n",
    "    print('이름: ', name)\n",
    "    print('나이: ', age)\n",
    "    print('주소 :' address)"
   ]
  }
 ],
 "metadata": {
  "kernelspec": {
   "display_name": "Python 3 (ipykernel)",
   "language": "python",
   "name": "python3"
  },
  "language_info": {
   "codemirror_mode": {
    "name": "ipython",
    "version": 3
   },
   "file_extension": ".py",
   "mimetype": "text/x-python",
   "name": "python",
   "nbconvert_exporter": "python",
   "pygments_lexer": "ipython3",
   "version": "3.9.7"
  },
  "toc": {
   "base_numbering": 1,
   "nav_menu": {},
   "number_sections": true,
   "sideBar": true,
   "skip_h1_title": false,
   "title_cell": "Table of Contents",
   "title_sidebar": "Contents",
   "toc_cell": false,
   "toc_position": {},
   "toc_section_display": true,
   "toc_window_display": false
  }
 },
 "nbformat": 4,
 "nbformat_minor": 5
}
