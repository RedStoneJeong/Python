{
 "cells": [
  {
   "cell_type": "markdown",
   "id": "c808f1f4",
   "metadata": {
    "ExecuteTime": {
     "end_time": "2023-02-01T06:43:43.818741Z",
     "start_time": "2023-02-01T06:43:43.799340Z"
    }
   },
   "source": [
    "## 문자열 바꾸기"
   ]
  },
  {
   "cell_type": "code",
   "execution_count": 2,
   "id": "6afbf717",
   "metadata": {
    "ExecuteTime": {
     "end_time": "2023-02-01T06:43:58.505551Z",
     "start_time": "2023-02-01T06:43:58.461687Z"
    }
   },
   "outputs": [
    {
     "data": {
      "text/plain": [
       "'hello python'"
      ]
     },
     "execution_count": 2,
     "metadata": {},
     "output_type": "execute_result"
    }
   ],
   "source": [
    "'hello world'.replace('world', 'python')"
   ]
  },
  {
   "cell_type": "code",
   "execution_count": 3,
   "id": "b455520c",
   "metadata": {
    "ExecuteTime": {
     "end_time": "2023-02-01T06:44:15.759368Z",
     "start_time": "2023-02-01T06:44:15.740419Z"
    }
   },
   "outputs": [
    {
     "data": {
      "text/plain": [
       "'hello python'"
      ]
     },
     "execution_count": 3,
     "metadata": {},
     "output_type": "execute_result"
    }
   ],
   "source": [
    "s = 'hello world'\n",
    "s = s.replace('world', 'python')\n",
    "s"
   ]
  },
  {
   "cell_type": "markdown",
   "id": "f775207c",
   "metadata": {
    "ExecuteTime": {
     "end_time": "2023-02-01T06:44:24.264103Z",
     "start_time": "2023-02-01T06:44:24.250525Z"
    }
   },
   "source": [
    "## 문자 바꾸기"
   ]
  },
  {
   "cell_type": "code",
   "execution_count": 6,
   "id": "47b394b9",
   "metadata": {
    "ExecuteTime": {
     "end_time": "2023-02-01T06:45:45.096196Z",
     "start_time": "2023-02-01T06:45:45.064251Z"
    }
   },
   "outputs": [
    {
     "data": {
      "text/plain": [
       "'1ppl2'"
      ]
     },
     "execution_count": 6,
     "metadata": {},
     "output_type": "execute_result"
    }
   ],
   "source": [
    "table = str.maketrans('aeiou', '12345')\n",
    "#str.maketrans('바꿀문자', '새문자')\n",
    "'apple'.translate(table)"
   ]
  },
  {
   "cell_type": "markdown",
   "id": "6bb2c7ad",
   "metadata": {
    "ExecuteTime": {
     "end_time": "2023-02-01T06:46:45.432269Z",
     "start_time": "2023-02-01T06:46:45.421248Z"
    }
   },
   "source": [
    "## 문자열 분리하기"
   ]
  },
  {
   "cell_type": "code",
   "execution_count": 9,
   "id": "88fd1f8e",
   "metadata": {
    "ExecuteTime": {
     "end_time": "2023-02-01T06:47:01.940663Z",
     "start_time": "2023-02-01T06:47:01.930306Z"
    }
   },
   "outputs": [
    {
     "data": {
      "text/plain": [
       "['apple', 'pear', 'grape', 'pineapple', 'orange']"
      ]
     },
     "execution_count": 9,
     "metadata": {},
     "output_type": "execute_result"
    }
   ],
   "source": [
    "'apple, pear, grape, pineapple, orange'.split(', ')"
   ]
  },
  {
   "cell_type": "markdown",
   "id": "c3c6db77",
   "metadata": {
    "ExecuteTime": {
     "end_time": "2023-02-01T06:47:18.319524Z",
     "start_time": "2023-02-01T06:47:18.314405Z"
    }
   },
   "source": [
    "## 구분자 문자열과 문자열 리스트 연결"
   ]
  },
  {
   "cell_type": "code",
   "execution_count": 11,
   "id": "2acc58a2",
   "metadata": {
    "ExecuteTime": {
     "end_time": "2023-02-01T06:47:53.709539Z",
     "start_time": "2023-02-01T06:47:53.691104Z"
    }
   },
   "outputs": [
    {
     "data": {
      "text/plain": [
       "'apple pear grape pineapple orange'"
      ]
     },
     "execution_count": 11,
     "metadata": {},
     "output_type": "execute_result"
    }
   ],
   "source": [
    "' '.join(['apple', 'pear', 'grape', 'pineapple', 'orange'])"
   ]
  },
  {
   "cell_type": "code",
   "execution_count": 12,
   "id": "98d989e4",
   "metadata": {
    "ExecuteTime": {
     "end_time": "2023-02-01T06:48:11.409508Z",
     "start_time": "2023-02-01T06:48:11.393538Z"
    }
   },
   "outputs": [
    {
     "data": {
      "text/plain": [
       "'apple-pear-grape-pineapple-orange'"
      ]
     },
     "execution_count": 12,
     "metadata": {},
     "output_type": "execute_result"
    }
   ],
   "source": [
    "'-'.join(['apple', 'pear', 'grape', 'pineapple', 'orange'])"
   ]
  },
  {
   "cell_type": "markdown",
   "id": "61463449",
   "metadata": {
    "ExecuteTime": {
     "end_time": "2023-02-01T06:48:39.868947Z",
     "start_time": "2023-02-01T06:48:39.854642Z"
    }
   },
   "source": [
    "## 대소문자 변경"
   ]
  },
  {
   "cell_type": "code",
   "execution_count": 13,
   "id": "17c9408f",
   "metadata": {
    "ExecuteTime": {
     "end_time": "2023-02-01T06:48:22.118792Z",
     "start_time": "2023-02-01T06:48:22.109226Z"
    }
   },
   "outputs": [
    {
     "data": {
      "text/plain": [
       "'PYTHON'"
      ]
     },
     "execution_count": 13,
     "metadata": {},
     "output_type": "execute_result"
    }
   ],
   "source": [
    "'python'.upper()"
   ]
  },
  {
   "cell_type": "code",
   "execution_count": 14,
   "id": "bd93355c",
   "metadata": {
    "ExecuteTime": {
     "end_time": "2023-02-01T06:48:30.257541Z",
     "start_time": "2023-02-01T06:48:30.252733Z"
    }
   },
   "outputs": [
    {
     "data": {
      "text/plain": [
       "'python'"
      ]
     },
     "execution_count": 14,
     "metadata": {},
     "output_type": "execute_result"
    }
   ],
   "source": [
    "'python'.lower()"
   ]
  },
  {
   "cell_type": "markdown",
   "id": "03012bf1",
   "metadata": {
    "ExecuteTime": {
     "end_time": "2023-02-01T06:48:51.569354Z",
     "start_time": "2023-02-01T06:48:51.563269Z"
    }
   },
   "source": [
    "## 왼쪽 오른쪽 공백 삭제"
   ]
  },
  {
   "cell_type": "code",
   "execution_count": 21,
   "id": "6e5a433f",
   "metadata": {
    "ExecuteTime": {
     "end_time": "2023-02-01T06:49:56.212907Z",
     "start_time": "2023-02-01T06:49:56.193706Z"
    }
   },
   "outputs": [
    {
     "data": {
      "text/plain": [
       "'python      '"
      ]
     },
     "execution_count": 21,
     "metadata": {},
     "output_type": "execute_result"
    }
   ],
   "source": [
    "'                   python      '.lstrip()"
   ]
  },
  {
   "cell_type": "code",
   "execution_count": 20,
   "id": "da4ab2b2",
   "metadata": {
    "ExecuteTime": {
     "end_time": "2023-02-01T06:49:47.949469Z",
     "start_time": "2023-02-01T06:49:47.934215Z"
    }
   },
   "outputs": [
    {
     "data": {
      "text/plain": [
       "'                   python'"
      ]
     },
     "execution_count": 20,
     "metadata": {},
     "output_type": "execute_result"
    }
   ],
   "source": [
    "'                   python      '.rstrip()"
   ]
  },
  {
   "cell_type": "code",
   "execution_count": 22,
   "id": "467c477d",
   "metadata": {
    "ExecuteTime": {
     "end_time": "2023-02-01T06:50:10.821818Z",
     "start_time": "2023-02-01T06:50:10.799376Z"
    }
   },
   "outputs": [
    {
     "data": {
      "text/plain": [
       "'python'"
      ]
     },
     "execution_count": 22,
     "metadata": {},
     "output_type": "execute_result"
    }
   ],
   "source": [
    "'      python              '.strip()"
   ]
  },
  {
   "cell_type": "markdown",
   "id": "f0486007",
   "metadata": {
    "ExecuteTime": {
     "end_time": "2023-02-01T06:50:27.346389Z",
     "start_time": "2023-02-01T06:50:27.336416Z"
    }
   },
   "source": [
    "## 왼쪽 오른쪽 특정 문자 삭제"
   ]
  },
  {
   "cell_type": "code",
   "execution_count": 25,
   "id": "406dc402",
   "metadata": {
    "ExecuteTime": {
     "end_time": "2023-02-01T06:51:10.549273Z",
     "start_time": "2023-02-01T06:51:10.541530Z"
    }
   },
   "outputs": [
    {
     "data": {
      "text/plain": [
       "' python .'"
      ]
     },
     "execution_count": 25,
     "metadata": {},
     "output_type": "execute_result"
    }
   ],
   "source": [
    "', python .'.lstrip(',,')"
   ]
  },
  {
   "cell_type": "code",
   "execution_count": 26,
   "id": "e4f41164",
   "metadata": {
    "ExecuteTime": {
     "end_time": "2023-02-01T06:51:26.840345Z",
     "start_time": "2023-02-01T06:51:26.819550Z"
    }
   },
   "outputs": [
    {
     "data": {
      "text/plain": [
       "',,python'"
      ]
     },
     "execution_count": 26,
     "metadata": {},
     "output_type": "execute_result"
    }
   ],
   "source": [
    "',,python...'.rstrip(',.')"
   ]
  },
  {
   "cell_type": "code",
   "execution_count": 27,
   "id": "373a4bc4",
   "metadata": {
    "ExecuteTime": {
     "end_time": "2023-02-01T06:51:43.549816Z",
     "start_time": "2023-02-01T06:51:43.533694Z"
    }
   },
   "outputs": [
    {
     "data": {
      "text/plain": [
       "'python'"
      ]
     },
     "execution_count": 27,
     "metadata": {},
     "output_type": "execute_result"
    }
   ],
   "source": [
    "',,,python...'.strip(',.')"
   ]
  },
  {
   "cell_type": "markdown",
   "id": "9fb7a03d",
   "metadata": {
    "ExecuteTime": {
     "end_time": "2023-02-01T06:52:02.716466Z",
     "start_time": "2023-02-01T06:52:02.703002Z"
    }
   },
   "source": [
    "## 문자열 정렬"
   ]
  },
  {
   "cell_type": "code",
   "execution_count": 29,
   "id": "25a20e1c",
   "metadata": {
    "ExecuteTime": {
     "end_time": "2023-02-01T06:52:20.036504Z",
     "start_time": "2023-02-01T06:52:20.024267Z"
    }
   },
   "outputs": [
    {
     "data": {
      "text/plain": [
       "'python    '"
      ]
     },
     "execution_count": 29,
     "metadata": {},
     "output_type": "execute_result"
    }
   ],
   "source": [
    "'python'.ljust(10)\n",
    "# 10칸을 만들어서 python을 왼 쪽에 넣고 나머지는 빈 칸"
   ]
  },
  {
   "cell_type": "code",
   "execution_count": 30,
   "id": "3fdf16fd",
   "metadata": {
    "ExecuteTime": {
     "end_time": "2023-02-01T06:52:47.392502Z",
     "start_time": "2023-02-01T06:52:47.372230Z"
    }
   },
   "outputs": [
    {
     "data": {
      "text/plain": [
       "'    python'"
      ]
     },
     "execution_count": 30,
     "metadata": {},
     "output_type": "execute_result"
    }
   ],
   "source": [
    "'python'.rjust(10)"
   ]
  },
  {
   "cell_type": "code",
   "execution_count": 31,
   "id": "511dd7b6",
   "metadata": {
    "ExecuteTime": {
     "end_time": "2023-02-01T06:53:05.809567Z",
     "start_time": "2023-02-01T06:53:05.794532Z"
    }
   },
   "outputs": [
    {
     "data": {
      "text/plain": [
       "'  python  '"
      ]
     },
     "execution_count": 31,
     "metadata": {},
     "output_type": "execute_result"
    }
   ],
   "source": [
    "'python'.center(10)"
   ]
  },
  {
   "cell_type": "markdown",
   "id": "4582da60",
   "metadata": {
    "ExecuteTime": {
     "end_time": "2023-02-01T06:53:16.245540Z",
     "start_time": "2023-02-01T06:53:16.240316Z"
    }
   },
   "source": [
    "## 메서드 체이닝"
   ]
  },
  {
   "cell_type": "code",
   "execution_count": 33,
   "id": "37ebcf35",
   "metadata": {
    "ExecuteTime": {
     "end_time": "2023-02-01T06:53:29.824616Z",
     "start_time": "2023-02-01T06:53:29.811116Z"
    }
   },
   "outputs": [
    {
     "data": {
      "text/plain": [
       "'    PYTHON'"
      ]
     },
     "execution_count": 33,
     "metadata": {},
     "output_type": "execute_result"
    }
   ],
   "source": [
    "'python'.rjust(10).upper()"
   ]
  },
  {
   "cell_type": "markdown",
   "id": "fe48e09b",
   "metadata": {
    "ExecuteTime": {
     "end_time": "2023-02-01T06:53:46.593135Z",
     "start_time": "2023-02-01T06:53:46.587246Z"
    }
   },
   "source": [
    "## 문자열 왼쪽에 o 채우기"
   ]
  },
  {
   "cell_type": "code",
   "execution_count": 35,
   "id": "fe18cceb",
   "metadata": {
    "ExecuteTime": {
     "end_time": "2023-02-01T06:54:00.057112Z",
     "start_time": "2023-02-01T06:54:00.051226Z"
    }
   },
   "outputs": [
    {
     "data": {
      "text/plain": [
       "'0035'"
      ]
     },
     "execution_count": 35,
     "metadata": {},
     "output_type": "execute_result"
    }
   ],
   "source": [
    "'35'.zfill(4)\n",
    "#zfill(길이): 지정된 길이에 맞춰 문자열의 왼쪽에 0채우기"
   ]
  },
  {
   "cell_type": "code",
   "execution_count": 36,
   "id": "8d75b535",
   "metadata": {
    "ExecuteTime": {
     "end_time": "2023-02-01T06:54:33.532513Z",
     "start_time": "2023-02-01T06:54:33.519425Z"
    }
   },
   "outputs": [
    {
     "data": {
      "text/plain": [
       "'0003.5'"
      ]
     },
     "execution_count": 36,
     "metadata": {},
     "output_type": "execute_result"
    }
   ],
   "source": [
    "'3.5'.zfill(6)"
   ]
  },
  {
   "cell_type": "code",
   "execution_count": 37,
   "id": "b1dd766e",
   "metadata": {
    "ExecuteTime": {
     "end_time": "2023-02-01T06:54:42.424896Z",
     "start_time": "2023-02-01T06:54:42.419462Z"
    }
   },
   "outputs": [
    {
     "data": {
      "text/plain": [
       "'00000hello'"
      ]
     },
     "execution_count": 37,
     "metadata": {},
     "output_type": "execute_result"
    }
   ],
   "source": [
    "'hello'.zfill(10)"
   ]
  },
  {
   "cell_type": "markdown",
   "id": "da44a733",
   "metadata": {
    "ExecuteTime": {
     "end_time": "2023-02-01T06:54:51.481905Z",
     "start_time": "2023-02-01T06:54:51.462356Z"
    }
   },
   "source": [
    "## 문자열 위치 찾기"
   ]
  },
  {
   "cell_type": "code",
   "execution_count": 39,
   "id": "3c7c427b",
   "metadata": {
    "ExecuteTime": {
     "end_time": "2023-02-01T06:55:02.218081Z",
     "start_time": "2023-02-01T06:55:02.207635Z"
    }
   },
   "outputs": [
    {
     "data": {
      "text/plain": [
       "2"
      ]
     },
     "execution_count": 39,
     "metadata": {},
     "output_type": "execute_result"
    }
   ],
   "source": [
    "'apple pineapple'.find('pl')\n",
    "# 특정 문자열을 찾아서 인덱스 반환"
   ]
  },
  {
   "cell_type": "code",
   "execution_count": 42,
   "id": "12132f50",
   "metadata": {
    "ExecuteTime": {
     "end_time": "2023-02-01T06:56:20.935836Z",
     "start_time": "2023-02-01T06:56:20.916804Z"
    }
   },
   "outputs": [
    {
     "data": {
      "text/plain": [
       "-1"
      ]
     },
     "execution_count": 42,
     "metadata": {},
     "output_type": "execute_result"
    }
   ],
   "source": [
    "'apple pineapple'.find('xy')\n",
    "# 없으면 -1 반환"
   ]
  },
  {
   "cell_type": "code",
   "execution_count": 44,
   "id": "f9f2577f",
   "metadata": {
    "ExecuteTime": {
     "end_time": "2023-02-01T06:56:59.303381Z",
     "start_time": "2023-02-01T06:56:59.289325Z"
    }
   },
   "outputs": [
    {
     "data": {
      "text/plain": [
       "12"
      ]
     },
     "execution_count": 44,
     "metadata": {},
     "output_type": "execute_result"
    }
   ],
   "source": [
    "'apple pineapple'.rfind('pl')"
   ]
  },
  {
   "cell_type": "code",
   "execution_count": 45,
   "id": "e8d8213a",
   "metadata": {
    "ExecuteTime": {
     "end_time": "2023-02-01T06:57:01.061410Z",
     "start_time": "2023-02-01T06:57:01.050606Z"
    }
   },
   "outputs": [
    {
     "data": {
      "text/plain": [
       "-1"
      ]
     },
     "execution_count": 45,
     "metadata": {},
     "output_type": "execute_result"
    }
   ],
   "source": [
    "'apple pineapple'.rfind('xy')"
   ]
  },
  {
   "cell_type": "markdown",
   "id": "8446393f",
   "metadata": {
    "ExecuteTime": {
     "end_time": "2023-02-01T06:57:30.031706Z",
     "start_time": "2023-02-01T06:57:30.021673Z"
    }
   },
   "source": [
    "## 문자열 위치 찾기"
   ]
  },
  {
   "cell_type": "code",
   "execution_count": 47,
   "id": "2df4c91a",
   "metadata": {
    "ExecuteTime": {
     "end_time": "2023-02-01T06:57:30.031706Z",
     "start_time": "2023-02-01T06:57:30.021673Z"
    }
   },
   "outputs": [
    {
     "data": {
      "text/plain": [
       "2"
      ]
     },
     "execution_count": 47,
     "metadata": {},
     "output_type": "execute_result"
    }
   ],
   "source": [
    "'apple pineapple'.index('pl')"
   ]
  },
  {
   "cell_type": "code",
   "execution_count": 48,
   "id": "2a277279",
   "metadata": {
    "ExecuteTime": {
     "end_time": "2023-02-01T06:57:46.946463Z",
     "start_time": "2023-02-01T06:57:46.939457Z"
    }
   },
   "outputs": [
    {
     "data": {
      "text/plain": [
       "12"
      ]
     },
     "execution_count": 48,
     "metadata": {},
     "output_type": "execute_result"
    }
   ],
   "source": [
    "'apple pineapple'.rindex('pl') #오른쪽부터 찾기"
   ]
  },
  {
   "cell_type": "markdown",
   "id": "c60fc2b5",
   "metadata": {
    "ExecuteTime": {
     "end_time": "2023-02-01T06:58:04.570972Z",
     "start_time": "2023-02-01T06:58:04.554451Z"
    }
   },
   "source": [
    "## 문자열 개수 세기"
   ]
  },
  {
   "cell_type": "code",
   "execution_count": 50,
   "id": "bd7da1e9",
   "metadata": {
    "ExecuteTime": {
     "end_time": "2023-02-01T06:58:16.577569Z",
     "start_time": "2023-02-01T06:58:16.566850Z"
    }
   },
   "outputs": [
    {
     "data": {
      "text/plain": [
       "2"
      ]
     },
     "execution_count": 50,
     "metadata": {},
     "output_type": "execute_result"
    }
   ],
   "source": [
    "'apple pineapple'.count('pl')"
   ]
  },
  {
   "cell_type": "markdown",
   "id": "32ba641c",
   "metadata": {
    "ExecuteTime": {
     "end_time": "2023-02-01T07:00:48.830247Z",
     "start_time": "2023-02-01T07:00:48.823038Z"
    }
   },
   "source": [
    "## 문자열 서식 지정자와 포매팅"
   ]
  },
  {
   "cell_type": "code",
   "execution_count": 52,
   "id": "7c88c590",
   "metadata": {
    "ExecuteTime": {
     "end_time": "2023-02-01T07:01:12.899696Z",
     "start_time": "2023-02-01T07:01:12.894187Z"
    }
   },
   "outputs": [
    {
     "data": {
      "text/plain": [
       "'I am james'"
      ]
     },
     "execution_count": 52,
     "metadata": {},
     "output_type": "execute_result"
    }
   ],
   "source": [
    "'I am %s' %'james'\n",
    "\n",
    "# %는 서식지정자 %s는 문자열"
   ]
  },
  {
   "cell_type": "code",
   "execution_count": 53,
   "id": "e76c5a28",
   "metadata": {
    "ExecuteTime": {
     "end_time": "2023-02-01T07:02:14.047050Z",
     "start_time": "2023-02-01T07:02:14.043056Z"
    }
   },
   "outputs": [
    {
     "data": {
      "text/plain": [
       "'I am maria'"
      ]
     },
     "execution_count": 53,
     "metadata": {},
     "output_type": "execute_result"
    }
   ],
   "source": [
    "name = 'maria'\n",
    "'I am %s' %name"
   ]
  },
  {
   "cell_type": "code",
   "execution_count": 54,
   "id": "802340e6",
   "metadata": {
    "ExecuteTime": {
     "end_time": "2023-02-01T07:02:38.656047Z",
     "start_time": "2023-02-01T07:02:38.638448Z"
    }
   },
   "outputs": [
    {
     "data": {
      "text/plain": [
       "'I am 20 years old'"
      ]
     },
     "execution_count": 54,
     "metadata": {},
     "output_type": "execute_result"
    }
   ],
   "source": [
    "# %d = 숫자\n",
    "'I am %d years old' %20"
   ]
  },
  {
   "cell_type": "code",
   "execution_count": 56,
   "id": "9f946a37",
   "metadata": {
    "ExecuteTime": {
     "end_time": "2023-02-01T07:03:21.155757Z",
     "start_time": "2023-02-01T07:03:21.141421Z"
    }
   },
   "outputs": [
    {
     "data": {
      "text/plain": [
       "'2.400000'"
      ]
     },
     "execution_count": 56,
     "metadata": {},
     "output_type": "execute_result"
    }
   ],
   "source": [
    "# %f 소수점, 기본 소수점 이하 6자리\n",
    "'%f' %2.4"
   ]
  },
  {
   "cell_type": "markdown",
   "id": "4b0c37c6",
   "metadata": {
    "ExecuteTime": {
     "end_time": "2023-02-01T07:03:27.930736Z",
     "start_time": "2023-02-01T07:03:27.916857Z"
    }
   },
   "source": [
    "## 서식지정자로 문자열 정렬"
   ]
  },
  {
   "cell_type": "code",
   "execution_count": 58,
   "id": "016073f8",
   "metadata": {
    "ExecuteTime": {
     "end_time": "2023-02-01T07:03:50.366610Z",
     "start_time": "2023-02-01T07:03:50.359318Z"
    }
   },
   "outputs": [
    {
     "data": {
      "text/plain": [
       "'    python'"
      ]
     },
     "execution_count": 58,
     "metadata": {},
     "output_type": "execute_result"
    }
   ],
   "source": [
    "# %길이s\n",
    "'%10s' %'python'"
   ]
  },
  {
   "cell_type": "markdown",
   "id": "c9c883b8",
   "metadata": {
    "ExecuteTime": {
     "end_time": "2023-02-01T07:04:32.341909Z",
     "start_time": "2023-02-01T07:04:32.335968Z"
    }
   },
   "source": [
    "## 서식 지정자로 문자열 안에 값 여러개"
   ]
  },
  {
   "cell_type": "code",
   "execution_count": 60,
   "id": "217772c2",
   "metadata": {
    "ExecuteTime": {
     "end_time": "2023-02-01T07:04:50.609488Z",
     "start_time": "2023-02-01T07:04:50.599602Z"
    }
   },
   "outputs": [
    {
     "data": {
      "text/plain": [
       "'Today is 3 april'"
      ]
     },
     "execution_count": 60,
     "metadata": {},
     "output_type": "execute_result"
    }
   ],
   "source": [
    "'Today is %d %s' %(3, 'april')"
   ]
  },
  {
   "cell_type": "code",
   "execution_count": 61,
   "id": "b8c8c5ab",
   "metadata": {
    "ExecuteTime": {
     "end_time": "2023-02-01T07:05:13.714349Z",
     "start_time": "2023-02-01T07:05:13.697265Z"
    }
   },
   "outputs": [
    {
     "data": {
      "text/plain": [
       "'today is 3april'"
      ]
     },
     "execution_count": 61,
     "metadata": {},
     "output_type": "execute_result"
    }
   ],
   "source": [
    "'today is %d%s' %(3, 'april')"
   ]
  },
  {
   "cell_type": "markdown",
   "id": "8e7113d5",
   "metadata": {
    "ExecuteTime": {
     "end_time": "2023-02-01T07:05:33.852675Z",
     "start_time": "2023-02-01T07:05:33.846108Z"
    }
   },
   "source": [
    "## format 메서드 이용"
   ]
  },
  {
   "cell_type": "code",
   "execution_count": 64,
   "id": "651ebcbc",
   "metadata": {
    "ExecuteTime": {
     "end_time": "2023-02-01T07:06:12.389197Z",
     "start_time": "2023-02-01T07:06:12.371341Z"
    }
   },
   "outputs": [
    {
     "data": {
      "text/plain": [
       "'hello, world'"
      ]
     },
     "execution_count": 64,
     "metadata": {},
     "output_type": "execute_result"
    }
   ],
   "source": [
    "# '{인덱스}.format(값)'\n",
    "'hello, {0}'.format('world')"
   ]
  },
  {
   "cell_type": "code",
   "execution_count": 65,
   "id": "31e28168",
   "metadata": {
    "ExecuteTime": {
     "end_time": "2023-02-01T07:06:27.660545Z",
     "start_time": "2023-02-01T07:06:27.644096Z"
    }
   },
   "outputs": [
    {
     "data": {
      "text/plain": [
       "'hello, 100'"
      ]
     },
     "execution_count": 65,
     "metadata": {},
     "output_type": "execute_result"
    }
   ],
   "source": [
    "'hello, {0}'.format(100)"
   ]
  },
  {
   "cell_type": "code",
   "execution_count": 66,
   "id": "24339fb2",
   "metadata": {
    "ExecuteTime": {
     "end_time": "2023-02-01T07:07:08.214644Z",
     "start_time": "2023-02-01T07:07:08.202121Z"
    }
   },
   "outputs": [
    {
     "data": {
      "text/plain": [
       "'hello, python 3.6 script'"
      ]
     },
     "execution_count": 66,
     "metadata": {},
     "output_type": "execute_result"
    }
   ],
   "source": [
    "'hello, {0} {2} {1}'.format('python', 'script', 3.6)"
   ]
  },
  {
   "cell_type": "code",
   "execution_count": 67,
   "id": "d91c6671",
   "metadata": {
    "ExecuteTime": {
     "end_time": "2023-02-01T07:07:36.122393Z",
     "start_time": "2023-02-01T07:07:36.106170Z"
    }
   },
   "outputs": [
    {
     "data": {
      "text/plain": [
       "'python python script script'"
      ]
     },
     "execution_count": 67,
     "metadata": {},
     "output_type": "execute_result"
    }
   ],
   "source": [
    "'{0} {0} {1} {1}'.format('python', 'script')"
   ]
  },
  {
   "cell_type": "code",
   "execution_count": 68,
   "id": "2596de99",
   "metadata": {
    "ExecuteTime": {
     "end_time": "2023-02-01T07:07:59.504663Z",
     "start_time": "2023-02-01T07:07:59.487415Z"
    }
   },
   "outputs": [
    {
     "data": {
      "text/plain": [
       "'hello, python script 3.6'"
      ]
     },
     "execution_count": 68,
     "metadata": {},
     "output_type": "execute_result"
    }
   ],
   "source": [
    "'hello, {} {} {}'.format('python', 'script', 3.6)"
   ]
  },
  {
   "cell_type": "code",
   "execution_count": 70,
   "id": "5a597f7d",
   "metadata": {
    "ExecuteTime": {
     "end_time": "2023-02-01T07:08:55.980035Z",
     "start_time": "2023-02-01T07:08:55.969454Z"
    }
   },
   "outputs": [
    {
     "data": {
      "text/plain": [
       "'hello, python 3.6'"
      ]
     },
     "execution_count": 70,
     "metadata": {},
     "output_type": "execute_result"
    }
   ],
   "source": [
    "'hello, {language} {version}'.format(language='python', version=3.6)"
   ]
  },
  {
   "cell_type": "code",
   "execution_count": null,
   "id": "b6240a64",
   "metadata": {},
   "outputs": [],
   "source": []
  }
 ],
 "metadata": {
  "kernelspec": {
   "display_name": "Python 3 (ipykernel)",
   "language": "python",
   "name": "python3"
  },
  "language_info": {
   "codemirror_mode": {
    "name": "ipython",
    "version": 3
   },
   "file_extension": ".py",
   "mimetype": "text/x-python",
   "name": "python",
   "nbconvert_exporter": "python",
   "pygments_lexer": "ipython3",
   "version": "3.9.7"
  },
  "toc": {
   "base_numbering": 1,
   "nav_menu": {},
   "number_sections": true,
   "sideBar": true,
   "skip_h1_title": false,
   "title_cell": "Table of Contents",
   "title_sidebar": "Contents",
   "toc_cell": false,
   "toc_position": {},
   "toc_section_display": true,
   "toc_window_display": false
  }
 },
 "nbformat": 4,
 "nbformat_minor": 5
}
