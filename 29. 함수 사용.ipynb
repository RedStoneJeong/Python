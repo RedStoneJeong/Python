{
 "cells": [
  {
   "cell_type": "markdown",
   "id": "7730aa95",
   "metadata": {
    "ExecuteTime": {
     "end_time": "2023-02-02T02:41:11.321067Z",
     "start_time": "2023-02-02T02:41:11.313087Z"
    }
   },
   "source": [
    "## hello, world! 출력함수"
   ]
  },
  {
   "cell_type": "code",
   "execution_count": 7,
   "id": "17c6092d",
   "metadata": {
    "ExecuteTime": {
     "end_time": "2023-02-02T02:48:59.095368Z",
     "start_time": "2023-02-02T02:48:59.079614Z"
    }
   },
   "outputs": [
    {
     "name": "stdout",
     "output_type": "stream",
     "text": [
      "hello, world\n"
     ]
    }
   ],
   "source": [
    "def hello():\n",
    "    print('hello, world')\n",
    "\n",
    "hello()"
   ]
  },
  {
   "cell_type": "markdown",
   "id": "bc2e19cb",
   "metadata": {
    "ExecuteTime": {
     "end_time": "2023-02-02T02:49:05.110882Z",
     "start_time": "2023-02-02T02:49:05.103899Z"
    }
   },
   "source": [
    "## 덧셈 함수"
   ]
  },
  {
   "cell_type": "code",
   "execution_count": 3,
   "id": "2adc6edd",
   "metadata": {
    "ExecuteTime": {
     "end_time": "2023-02-02T02:47:09.508260Z",
     "start_time": "2023-02-02T02:47:09.500225Z"
    }
   },
   "outputs": [
    {
     "name": "stdout",
     "output_type": "stream",
     "text": [
      "30\n"
     ]
    }
   ],
   "source": [
    "def add(a, b):\n",
    "    print(a + b)\n",
    "    \n",
    "add(10, 20)"
   ]
  },
  {
   "cell_type": "code",
   "execution_count": 4,
   "id": "463a9413",
   "metadata": {
    "ExecuteTime": {
     "end_time": "2023-02-02T02:47:36.567416Z",
     "start_time": "2023-02-02T02:47:36.561431Z"
    }
   },
   "outputs": [
    {
     "name": "stdout",
     "output_type": "stream",
     "text": [
      "30\n"
     ]
    }
   ],
   "source": [
    "x = add(10, 20)\n",
    "x"
   ]
  },
  {
   "cell_type": "code",
   "execution_count": 6,
   "id": "55c94607",
   "metadata": {
    "ExecuteTime": {
     "end_time": "2023-02-02T02:48:27.525118Z",
     "start_time": "2023-02-02T02:48:27.506168Z"
    }
   },
   "outputs": [
    {
     "data": {
      "text/plain": [
       "(30, -10)"
      ]
     },
     "execution_count": 6,
     "metadata": {},
     "output_type": "execute_result"
    }
   ],
   "source": [
    "def add_sub(a,b):\n",
    "    return a + b, a- b\n",
    "\n",
    "x, y = add_sub(10, 20)\n",
    "x, y"
   ]
  },
  {
   "cell_type": "markdown",
   "id": "e82b55c0",
   "metadata": {
    "ExecuteTime": {
     "end_time": "2023-02-02T02:49:12.985799Z",
     "start_time": "2023-02-02T02:49:12.979821Z"
    }
   },
   "source": [
    "## 함수의 호출 과정"
   ]
  },
  {
   "cell_type": "code",
   "execution_count": 10,
   "id": "f3e0c37a",
   "metadata": {
    "ExecuteTime": {
     "end_time": "2023-02-02T02:52:15.111402Z",
     "start_time": "2023-02-02T02:52:15.099431Z"
    }
   },
   "outputs": [
    {
     "name": "stdout",
     "output_type": "stream",
     "text": [
      "30\n",
      "200\n"
     ]
    }
   ],
   "source": [
    "def mul(a, b):\n",
    "    c = a * b\n",
    "    return c\n",
    "\n",
    "def add(a, b):\n",
    "    c = a + b\n",
    "    print(c)\n",
    "    d = mul(a, b)\n",
    "    print(d)\n",
    "\n",
    "x = 10\n",
    "y = 20\n",
    "add(x, y)"
   ]
  }
 ],
 "metadata": {
  "kernelspec": {
   "display_name": "Python 3 (ipykernel)",
   "language": "python",
   "name": "python3"
  },
  "language_info": {
   "codemirror_mode": {
    "name": "ipython",
    "version": 3
   },
   "file_extension": ".py",
   "mimetype": "text/x-python",
   "name": "python",
   "nbconvert_exporter": "python",
   "pygments_lexer": "ipython3",
   "version": "3.9.7"
  },
  "toc": {
   "base_numbering": 1,
   "nav_menu": {},
   "number_sections": true,
   "sideBar": true,
   "skip_h1_title": false,
   "title_cell": "Table of Contents",
   "title_sidebar": "Contents",
   "toc_cell": false,
   "toc_position": {},
   "toc_section_display": true,
   "toc_window_display": false
  }
 },
 "nbformat": 4,
 "nbformat_minor": 5
}
