{
 "cells": [
  {
   "cell_type": "markdown",
   "id": "b03f8705",
   "metadata": {
    "ExecuteTime": {
     "end_time": "2023-02-01T07:57:26.370978Z",
     "start_time": "2023-02-01T07:57:26.358646Z"
    }
   },
   "source": [
    "## 세트 사용"
   ]
  },
  {
   "cell_type": "markdown",
   "id": "9f7530da",
   "metadata": {
    "ExecuteTime": {
     "end_time": "2023-02-01T07:58:31.754192Z",
     "start_time": "2023-02-01T07:58:31.744105Z"
    }
   },
   "source": [
    "- 세트는 순서가 정해져 있지 않음.\n",
    "- 집합을 표현하는 식"
   ]
  },
  {
   "cell_type": "code",
   "execution_count": 2,
   "id": "d07d26ac",
   "metadata": {
    "ExecuteTime": {
     "end_time": "2023-02-01T07:58:06.491926Z",
     "start_time": "2023-02-01T07:58:06.464423Z"
    }
   },
   "outputs": [
    {
     "data": {
      "text/plain": [
       "{'cherry', 'grape', 'oragnge', 'pineapple', 'strawberry'}"
      ]
     },
     "execution_count": 2,
     "metadata": {},
     "output_type": "execute_result"
    }
   ],
   "source": [
    "fruits = {'strawberry', 'grape', 'oragnge', 'pineapple', 'cherry'}\n",
    "fruits"
   ]
  },
  {
   "cell_type": "code",
   "execution_count": 12,
   "id": "41737461",
   "metadata": {
    "ExecuteTime": {
     "end_time": "2023-02-01T07:59:45.879524Z",
     "start_time": "2023-02-01T07:59:45.866262Z"
    }
   },
   "outputs": [
    {
     "data": {
      "text/plain": [
       "{'grape', 'orange'}"
      ]
     },
     "execution_count": 12,
     "metadata": {},
     "output_type": "execute_result"
    }
   ],
   "source": [
    "#중복 안됨\n",
    "fruits = {'orange', 'orange', 'grape'}\n",
    "fruits"
   ]
  },
  {
   "cell_type": "code",
   "execution_count": 19,
   "id": "cf0cf518",
   "metadata": {
    "ExecuteTime": {
     "end_time": "2023-02-01T08:00:53.774190Z",
     "start_time": "2023-02-01T08:00:53.747525Z"
    }
   },
   "outputs": [
    {
     "ename": "TypeError",
     "evalue": "'set' object is not subscriptable",
     "output_type": "error",
     "traceback": [
      "\u001b[1;31m---------------------------------------------------------------------------\u001b[0m",
      "\u001b[1;31mTypeError\u001b[0m                                 Traceback (most recent call last)",
      "\u001b[1;32mC:\\Users\\JEONGH~1\\AppData\\Local\\Temp/ipykernel_9100/4281048646.py\u001b[0m in \u001b[0;36m<module>\u001b[1;34m\u001b[0m\n\u001b[0;32m      1\u001b[0m \u001b[1;31m#대괄호로 특정요소 추출 불가\u001b[0m\u001b[1;33m\u001b[0m\u001b[1;33m\u001b[0m\u001b[0m\n\u001b[1;32m----> 2\u001b[1;33m \u001b[0mprint\u001b[0m\u001b[1;33m(\u001b[0m\u001b[0mfruits\u001b[0m\u001b[1;33m[\u001b[0m\u001b[1;36m0\u001b[0m\u001b[1;33m]\u001b[0m\u001b[1;33m)\u001b[0m\u001b[1;33m\u001b[0m\u001b[1;33m\u001b[0m\u001b[0m\n\u001b[0m",
      "\u001b[1;31mTypeError\u001b[0m: 'set' object is not subscriptable"
     ]
    }
   ],
   "source": [
    "#대괄호로 특정요소 추출 불가\n",
    "print(fruits[0])"
   ]
  },
  {
   "cell_type": "markdown",
   "id": "82d4184f",
   "metadata": {
    "ExecuteTime": {
     "end_time": "2023-02-01T08:00:24.212642Z",
     "start_time": "2023-02-01T08:00:24.195760Z"
    }
   },
   "source": [
    "## 특정 값이 있는지 확인하기"
   ]
  },
  {
   "cell_type": "code",
   "execution_count": 22,
   "id": "a1e783fd",
   "metadata": {
    "ExecuteTime": {
     "end_time": "2023-02-01T08:01:15.090496Z",
     "start_time": "2023-02-01T08:01:15.082944Z"
    }
   },
   "outputs": [
    {
     "data": {
      "text/plain": [
       "True"
      ]
     },
     "execution_count": 22,
     "metadata": {},
     "output_type": "execute_result"
    }
   ],
   "source": [
    "'orange' in fruits"
   ]
  },
  {
   "cell_type": "code",
   "execution_count": 23,
   "id": "0428cc3f",
   "metadata": {
    "ExecuteTime": {
     "end_time": "2023-02-01T08:01:21.953142Z",
     "start_time": "2023-02-01T08:01:21.935113Z"
    }
   },
   "outputs": [
    {
     "data": {
      "text/plain": [
       "False"
      ]
     },
     "execution_count": 23,
     "metadata": {},
     "output_type": "execute_result"
    }
   ],
   "source": [
    "'peach' in fruits"
   ]
  },
  {
   "cell_type": "code",
   "execution_count": 24,
   "id": "a4ebec32",
   "metadata": {
    "ExecuteTime": {
     "end_time": "2023-02-01T08:01:40.212411Z",
     "start_time": "2023-02-01T08:01:40.204171Z"
    }
   },
   "outputs": [
    {
     "data": {
      "text/plain": [
       "True"
      ]
     },
     "execution_count": 24,
     "metadata": {},
     "output_type": "execute_result"
    }
   ],
   "source": [
    "'peach' not in fruits"
   ]
  },
  {
   "cell_type": "code",
   "execution_count": 25,
   "id": "41a92a1b",
   "metadata": {
    "ExecuteTime": {
     "end_time": "2023-02-01T08:01:50.054132Z",
     "start_time": "2023-02-01T08:01:50.042067Z"
    }
   },
   "outputs": [
    {
     "data": {
      "text/plain": [
       "False"
      ]
     },
     "execution_count": 25,
     "metadata": {},
     "output_type": "execute_result"
    }
   ],
   "source": [
    "'orange' not in fruits"
   ]
  },
  {
   "cell_type": "markdown",
   "id": "12f7f9d0",
   "metadata": {
    "ExecuteTime": {
     "end_time": "2023-02-01T08:02:04.216263Z",
     "start_time": "2023-02-01T08:02:04.212989Z"
    }
   },
   "source": [
    "## set 이용하기"
   ]
  },
  {
   "cell_type": "code",
   "execution_count": 27,
   "id": "91fa1890",
   "metadata": {
    "ExecuteTime": {
     "end_time": "2023-02-01T08:02:14.731250Z",
     "start_time": "2023-02-01T08:02:14.710624Z"
    }
   },
   "outputs": [
    {
     "data": {
      "text/plain": [
       "{'a', 'e', 'l', 'p'}"
      ]
     },
     "execution_count": 27,
     "metadata": {},
     "output_type": "execute_result"
    }
   ],
   "source": [
    "a = set('apple')\n",
    "a"
   ]
  },
  {
   "cell_type": "code",
   "execution_count": 29,
   "id": "f12c669a",
   "metadata": {
    "ExecuteTime": {
     "end_time": "2023-02-01T08:02:30.993423Z",
     "start_time": "2023-02-01T08:02:30.979904Z"
    }
   },
   "outputs": [
    {
     "data": {
      "text/plain": [
       "{0, 1, 2, 3, 4}"
      ]
     },
     "execution_count": 29,
     "metadata": {},
     "output_type": "execute_result"
    }
   ],
   "source": [
    "b = set(range(5))\n",
    "b"
   ]
  },
  {
   "cell_type": "code",
   "execution_count": 30,
   "id": "dd4197c0",
   "metadata": {
    "ExecuteTime": {
     "end_time": "2023-02-01T08:02:36.762635Z",
     "start_time": "2023-02-01T08:02:36.742241Z"
    }
   },
   "outputs": [
    {
     "data": {
      "text/plain": [
       "set()"
      ]
     },
     "execution_count": 30,
     "metadata": {},
     "output_type": "execute_result"
    }
   ],
   "source": [
    "c = set()\n",
    "c"
   ]
  },
  {
   "cell_type": "code",
   "execution_count": 32,
   "id": "2465cf1b",
   "metadata": {
    "ExecuteTime": {
     "end_time": "2023-02-01T08:03:07.923084Z",
     "start_time": "2023-02-01T08:03:07.914066Z"
    }
   },
   "outputs": [
    {
     "data": {
      "text/plain": [
       "dict"
      ]
     },
     "execution_count": 32,
     "metadata": {},
     "output_type": "execute_result"
    }
   ],
   "source": [
    "# 주의\n",
    "c = {}\n",
    "type(c)"
   ]
  },
  {
   "cell_type": "code",
   "execution_count": 33,
   "id": "48cb9805",
   "metadata": {
    "ExecuteTime": {
     "end_time": "2023-02-01T08:03:14.858843Z",
     "start_time": "2023-02-01T08:03:14.846916Z"
    }
   },
   "outputs": [
    {
     "data": {
      "text/plain": [
       "set"
      ]
     },
     "execution_count": 33,
     "metadata": {},
     "output_type": "execute_result"
    }
   ],
   "source": [
    "c = set()\n",
    "type(c)"
   ]
  },
  {
   "cell_type": "markdown",
   "id": "ef364a6b",
   "metadata": {
    "ExecuteTime": {
     "end_time": "2023-02-01T08:03:38.181666Z",
     "start_time": "2023-02-01T08:03:38.167622Z"
    }
   },
   "source": [
    "## 집합 연산 사용하기"
   ]
  },
  {
   "cell_type": "code",
   "execution_count": 37,
   "id": "624c9e9d",
   "metadata": {
    "ExecuteTime": {
     "end_time": "2023-02-01T08:04:31.710326Z",
     "start_time": "2023-02-01T08:04:31.685027Z"
    }
   },
   "outputs": [
    {
     "data": {
      "text/plain": [
       "({1, 2, 3, 4, 5, 6}, {1, 2, 3, 4, 5, 6})"
      ]
     },
     "execution_count": 37,
     "metadata": {},
     "output_type": "execute_result"
    }
   ],
   "source": [
    "a = {1, 2, 3, 4}\n",
    "b = {3, 4, 5, 6}\n",
    "#합집합\n",
    "a | b, set.union(a, b)"
   ]
  },
  {
   "cell_type": "code",
   "execution_count": 38,
   "id": "65743688",
   "metadata": {
    "ExecuteTime": {
     "end_time": "2023-02-01T08:04:54.557813Z",
     "start_time": "2023-02-01T08:04:54.549595Z"
    }
   },
   "outputs": [
    {
     "data": {
      "text/plain": [
       "({3, 4}, {3, 4})"
      ]
     },
     "execution_count": 38,
     "metadata": {},
     "output_type": "execute_result"
    }
   ],
   "source": [
    "#교집합\n",
    "a & b, set.intersection(a, b)"
   ]
  },
  {
   "cell_type": "code",
   "execution_count": 39,
   "id": "92f23495",
   "metadata": {
    "ExecuteTime": {
     "end_time": "2023-02-01T08:05:14.653993Z",
     "start_time": "2023-02-01T08:05:14.631735Z"
    }
   },
   "outputs": [
    {
     "data": {
      "text/plain": [
       "({1, 2}, {1, 2})"
      ]
     },
     "execution_count": 39,
     "metadata": {},
     "output_type": "execute_result"
    }
   ],
   "source": [
    "#차집합\n",
    "a - b, set.difference(a,b)"
   ]
  },
  {
   "cell_type": "markdown",
   "id": "b9c56ed5",
   "metadata": {
    "ExecuteTime": {
     "end_time": "2023-02-01T14:18:33.982497Z",
     "start_time": "2023-02-01T14:18:33.964263Z"
    }
   },
   "source": [
    "## 세트 조작"
   ]
  },
  {
   "cell_type": "code",
   "execution_count": 2,
   "id": "cc520233",
   "metadata": {
    "ExecuteTime": {
     "end_time": "2023-02-01T14:18:50.027921Z",
     "start_time": "2023-02-01T14:18:49.992172Z"
    }
   },
   "outputs": [
    {
     "data": {
      "text/plain": [
       "{1, 2, 3, 4, 5}"
      ]
     },
     "execution_count": 2,
     "metadata": {},
     "output_type": "execute_result"
    }
   ],
   "source": [
    "a = {1, 2, 3, 4}\n",
    "a.add(5)\n",
    "a"
   ]
  },
  {
   "cell_type": "code",
   "execution_count": 3,
   "id": "6ac05d66",
   "metadata": {
    "ExecuteTime": {
     "end_time": "2023-02-01T14:18:58.961495Z",
     "start_time": "2023-02-01T14:18:58.941736Z"
    }
   },
   "outputs": [
    {
     "data": {
      "text/plain": [
       "{1, 2, 4, 5}"
      ]
     },
     "execution_count": 3,
     "metadata": {},
     "output_type": "execute_result"
    }
   ],
   "source": [
    "a.remove(3)\n",
    "a"
   ]
  },
  {
   "cell_type": "code",
   "execution_count": 5,
   "id": "c2cf4c85",
   "metadata": {
    "ExecuteTime": {
     "end_time": "2023-02-01T14:19:39.105007Z",
     "start_time": "2023-02-01T14:19:39.090998Z"
    }
   },
   "outputs": [
    {
     "data": {
      "text/plain": [
       "{1, 4, 5}"
      ]
     },
     "execution_count": 5,
     "metadata": {},
     "output_type": "execute_result"
    }
   ],
   "source": [
    "#특정요소를 삭제하고 없으면 넘어감\n",
    "a.discard(2)\n",
    "a"
   ]
  },
  {
   "cell_type": "code",
   "execution_count": 8,
   "id": "1375ba57",
   "metadata": {
    "ExecuteTime": {
     "end_time": "2023-02-01T14:20:09.881618Z",
     "start_time": "2023-02-01T14:20:09.862445Z"
    }
   },
   "outputs": [
    {
     "data": {
      "text/plain": [
       "{2, 3, 4}"
      ]
     },
     "execution_count": 8,
     "metadata": {},
     "output_type": "execute_result"
    }
   ],
   "source": [
    "#임의의 요소 삭제\n",
    "a = {1, 2, 3, 4}\n",
    "a.pop()\n",
    "a"
   ]
  },
  {
   "cell_type": "code",
   "execution_count": 9,
   "id": "c0821d40",
   "metadata": {
    "ExecuteTime": {
     "end_time": "2023-02-01T14:20:18.178780Z",
     "start_time": "2023-02-01T14:20:18.165524Z"
    }
   },
   "outputs": [
    {
     "data": {
      "text/plain": [
       "set()"
      ]
     },
     "execution_count": 9,
     "metadata": {},
     "output_type": "execute_result"
    }
   ],
   "source": [
    "a.clear()\n",
    "a"
   ]
  },
  {
   "cell_type": "code",
   "execution_count": 10,
   "id": "a054e6bd",
   "metadata": {
    "ExecuteTime": {
     "end_time": "2023-02-01T14:20:26.448448Z",
     "start_time": "2023-02-01T14:20:26.439085Z"
    }
   },
   "outputs": [
    {
     "data": {
      "text/plain": [
       "4"
      ]
     },
     "execution_count": 10,
     "metadata": {},
     "output_type": "execute_result"
    }
   ],
   "source": [
    "a = {1, 2, 3, 4}\n",
    "len(a)"
   ]
  },
  {
   "cell_type": "markdown",
   "id": "fe263e15",
   "metadata": {
    "ExecuteTime": {
     "end_time": "2023-02-01T14:20:45.834041Z",
     "start_time": "2023-02-01T14:20:45.815939Z"
    }
   },
   "source": [
    "## 세트의 할당과 복사"
   ]
  },
  {
   "cell_type": "code",
   "execution_count": 12,
   "id": "9ca2b8bc",
   "metadata": {
    "ExecuteTime": {
     "end_time": "2023-02-01T14:20:56.518345Z",
     "start_time": "2023-02-01T14:20:56.504015Z"
    }
   },
   "outputs": [],
   "source": [
    "a = {1, 2, 3, 4}\n",
    "b = a"
   ]
  },
  {
   "cell_type": "code",
   "execution_count": 13,
   "id": "8b5096cf",
   "metadata": {
    "ExecuteTime": {
     "end_time": "2023-02-01T14:21:01.998136Z",
     "start_time": "2023-02-01T14:21:01.987387Z"
    }
   },
   "outputs": [
    {
     "data": {
      "text/plain": [
       "True"
      ]
     },
     "execution_count": 13,
     "metadata": {},
     "output_type": "execute_result"
    }
   ],
   "source": [
    "a is b"
   ]
  },
  {
   "cell_type": "code",
   "execution_count": 14,
   "id": "689a2a6c",
   "metadata": {
    "ExecuteTime": {
     "end_time": "2023-02-01T14:21:14.751934Z",
     "start_time": "2023-02-01T14:21:14.735309Z"
    }
   },
   "outputs": [
    {
     "data": {
      "text/plain": [
       "({1, 2, 3, 4, 5}, {1, 2, 3, 4, 5})"
      ]
     },
     "execution_count": 14,
     "metadata": {},
     "output_type": "execute_result"
    }
   ],
   "source": [
    "b.add(5)\n",
    "a, b"
   ]
  },
  {
   "cell_type": "code",
   "execution_count": 15,
   "id": "d4ce90d5",
   "metadata": {
    "ExecuteTime": {
     "end_time": "2023-02-01T14:21:28.326957Z",
     "start_time": "2023-02-01T14:21:28.317951Z"
    }
   },
   "outputs": [],
   "source": [
    "a = {1, 2, 3, 4}\n",
    "b = a.copy()"
   ]
  },
  {
   "cell_type": "code",
   "execution_count": 17,
   "id": "3d37d1b4",
   "metadata": {
    "ExecuteTime": {
     "end_time": "2023-02-01T14:21:42.632829Z",
     "start_time": "2023-02-01T14:21:42.613966Z"
    }
   },
   "outputs": [
    {
     "data": {
      "text/plain": [
       "(False, True)"
      ]
     },
     "execution_count": 17,
     "metadata": {},
     "output_type": "execute_result"
    }
   ],
   "source": [
    "a is b, a == b"
   ]
  },
  {
   "cell_type": "code",
   "execution_count": 18,
   "id": "13283726",
   "metadata": {
    "ExecuteTime": {
     "end_time": "2023-02-01T14:22:02.711909Z",
     "start_time": "2023-02-01T14:22:02.697811Z"
    }
   },
   "outputs": [
    {
     "data": {
      "text/plain": [
       "({1, 2, 3, 4}, {1, 2, 3, 4, 5})"
      ]
     },
     "execution_count": 18,
     "metadata": {},
     "output_type": "execute_result"
    }
   ],
   "source": [
    "a = {1, 2, 3, 4}\n",
    "b = a.copy()\n",
    "b.add(5)\n",
    "a, b"
   ]
  },
  {
   "cell_type": "markdown",
   "id": "a8921836",
   "metadata": {
    "ExecuteTime": {
     "end_time": "2023-02-01T14:22:21.832845Z",
     "start_time": "2023-02-01T14:22:21.812573Z"
    }
   },
   "source": [
    "## 반복문으로 세트 요소 출력"
   ]
  },
  {
   "cell_type": "code",
   "execution_count": 20,
   "id": "989b7c09",
   "metadata": {
    "ExecuteTime": {
     "end_time": "2023-02-01T14:22:38.422115Z",
     "start_time": "2023-02-01T14:22:38.403741Z"
    }
   },
   "outputs": [
    {
     "name": "stdout",
     "output_type": "stream",
     "text": [
      "{1, 2, 3, 4}\n",
      "{1, 2, 3, 4}\n",
      "{1, 2, 3, 4}\n",
      "{1, 2, 3, 4}\n"
     ]
    }
   ],
   "source": [
    "a = {1, 2, 3, 4}\n",
    "for i in a:\n",
    "    print(a)"
   ]
  },
  {
   "cell_type": "code",
   "execution_count": 21,
   "id": "31c5bd55",
   "metadata": {
    "ExecuteTime": {
     "end_time": "2023-02-01T14:23:10.586178Z",
     "start_time": "2023-02-01T14:23:10.564208Z"
    }
   },
   "outputs": [
    {
     "data": {
      "text/plain": [
       "{'a', 'e', 'l', 'p'}"
      ]
     },
     "execution_count": 21,
     "metadata": {},
     "output_type": "execute_result"
    }
   ],
   "source": [
    "a = {i for i in 'apple'}\n",
    "a"
   ]
  },
  {
   "cell_type": "code",
   "execution_count": 22,
   "id": "80cbc77a",
   "metadata": {
    "ExecuteTime": {
     "end_time": "2023-02-01T14:23:41.375350Z",
     "start_time": "2023-02-01T14:23:41.357832Z"
    }
   },
   "outputs": [
    {
     "data": {
      "text/plain": [
       "{'e', 'i', 'n'}"
      ]
     },
     "execution_count": 22,
     "metadata": {},
     "output_type": "execute_result"
    }
   ],
   "source": [
    "a = {i for i in 'pineapple' if i not in 'apl'}\n",
    "a"
   ]
  }
 ],
 "metadata": {
  "kernelspec": {
   "display_name": "Python 3 (ipykernel)",
   "language": "python",
   "name": "python3"
  },
  "language_info": {
   "codemirror_mode": {
    "name": "ipython",
    "version": 3
   },
   "file_extension": ".py",
   "mimetype": "text/x-python",
   "name": "python",
   "nbconvert_exporter": "python",
   "pygments_lexer": "ipython3",
   "version": "3.9.7"
  },
  "toc": {
   "base_numbering": 1,
   "nav_menu": {},
   "number_sections": true,
   "sideBar": true,
   "skip_h1_title": false,
   "title_cell": "Table of Contents",
   "title_sidebar": "Contents",
   "toc_cell": false,
   "toc_position": {},
   "toc_section_display": true,
   "toc_window_display": false
  }
 },
 "nbformat": 4,
 "nbformat_minor": 5
}
